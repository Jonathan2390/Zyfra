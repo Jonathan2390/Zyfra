{
 "cells": [
  {
   "cell_type": "markdown",
   "metadata": {},
   "source": [
    "# Zyfra"
   ]
  },
  {
   "cell_type": "markdown",
   "metadata": {},
   "source": [
    "## Descripción del proyecto"
   ]
  },
  {
   "cell_type": "markdown",
   "metadata": {},
   "source": [
    "¿Cómo se extrae el oro del mineral? Veamos las etapas de este proceso.\n",
    "El mineral extraído se somete a un tratamiento primario para obtener la mezcla de mineral, o alimentación rougher, que es la materia prima utilizada para la flotación (también conocida como proceso rougher). Después de la flotación, el material se somete al proceso de purificación en dos etapas.\n",
    "\n",
    "1. Flotación\n",
    "\n",
    "La mezcla de mineral de oro se introduce en las plantas de flotación para obtener un concentrado de oro rougher y colas rougher (es decir, residuos del producto con una baja concentración de metales valiosos).\n",
    "\n",
    "La estabilidad de este proceso se ve afectada por la volatilidad y el estado físico-químico desfavorable de la pulpa de flotación (una mezcla de partículas sólidas y líquido).\n",
    "\n",
    "2. Purificación\n",
    "\n",
    "El concentrado rougher se somete a dos etapas de purificación. Tras esto, tenemos el concentrado final y las nuevas colas.\n",
    "\n",
    "\n",
    "Prepara un prototipo de un modelo de machine learning para Zyfra. La empresa desarrolla soluciones de eficiencia para la industria pesada.\n",
    "\n",
    "El modelo debe predecir la cantidad de oro extraído del mineral de oro. Dispones de los datos de extracción y purificación.\n",
    "\n",
    "El modelo ayudará a optimizar la producción y a eliminar los parámetros no rentables.\n"
   ]
  },
  {
   "cell_type": "markdown",
   "metadata": {},
   "source": [
    "## Preparación de los datos\n",
    "### Importando librerías"
   ]
  },
  {
   "cell_type": "code",
   "execution_count": null,
   "metadata": {
    "trusted": false
   },
   "outputs": [],
   "source": [
    "import pandas as pd\n",
    "import numpy as np\n",
    "from sklearn.tree import DecisionTreeClassifier\n",
    "from sklearn import set_config\n",
    "from sklearn.model_selection import train_test_split\n",
    "from sklearn.preprocessing import StandardScaler\n",
    "from sklearn.ensemble import RandomForestClassifier\n",
    "from sklearn.metrics import accuracy_score, classification_report\n",
    "from sklearn.linear_model import LogisticRegression\n",
    "from sklearn.ensemble import RandomForestRegressor\n",
    "from sklearn.tree import DecisionTreeRegressor\n",
    "from sklearn.metrics import mean_squared_error\n",
    "from sklearn.metrics import recall_score\n",
    "from sklearn.metrics import confusion_matrix\n",
    "from sklearn.preprocessing import OrdinalEncoder\n",
    "from sklearn.metrics import precision_score\n",
    "from sklearn.metrics import f1_score\n",
    "from sklearn.utils import shuffle\n",
    "from sklearn.metrics import precision_recall_curve\n",
    "import matplotlib.pyplot as plt\n",
    "from sklearn.metrics import roc_curve\n",
    "from sklearn.metrics import roc_auc_score\n",
    "from sklearn.preprocessing import StandardScaler\n",
    "from sklearn.linear_model import LinearRegression\n",
    "from sklearn.metrics import r2_score\n",
    "from sklearn.metrics import mean_absolute_error\n",
    "from sklearn.preprocessing import LabelEncoder\n",
    "from sklearn.preprocessing import MinMaxScaler\n",
    "from sklearn.tree import DecisionTreeClassifier\n",
    "from sklearn.model_selection import cross_val_score"
   ]
  },
  {
   "cell_type": "markdown",
   "metadata": {},
   "source": [
    "### Importando los datos"
   ]
  },
  {
   "cell_type": "code",
   "execution_count": 2,
   "metadata": {
    "trusted": false
   },
   "outputs": [],
   "source": [
    "gold_recovery_train = pd.read_csv ('/datasets/gold_recovery_train.csv')\n",
    "gold_recovery_test = pd.read_csv ('/datasets/gold_recovery_test.csv')\n",
    "gold_recovery_full = pd.read_csv ('/datasets/gold_recovery_full.csv')"
   ]
  },
  {
   "cell_type": "markdown",
   "metadata": {},
   "source": [
    "### Visualizando estructura de los dataframes"
   ]
  },
  {
   "cell_type": "code",
   "execution_count": 3,
   "metadata": {
    "scrolled": false,
    "trusted": false
   },
   "outputs": [
    {
     "name": "stdout",
     "output_type": "stream",
     "text": [
      "Info del dataframe gold_recovery_train\n",
      "<class 'pandas.core.frame.DataFrame'>\n",
      "RangeIndex: 16860 entries, 0 to 16859\n",
      "Data columns (total 87 columns):\n",
      " #   Column                                              Non-Null Count  Dtype  \n",
      "---  ------                                              --------------  -----  \n",
      " 0   date                                                16860 non-null  object \n",
      " 1   final.output.concentrate_ag                         16788 non-null  float64\n",
      " 2   final.output.concentrate_pb                         16788 non-null  float64\n",
      " 3   final.output.concentrate_sol                        16490 non-null  float64\n",
      " 4   final.output.concentrate_au                         16789 non-null  float64\n",
      " 5   final.output.recovery                               15339 non-null  float64\n",
      " 6   final.output.tail_ag                                16794 non-null  float64\n",
      " 7   final.output.tail_pb                                16677 non-null  float64\n",
      " 8   final.output.tail_sol                               16715 non-null  float64\n",
      " 9   final.output.tail_au                                16794 non-null  float64\n",
      " 10  primary_cleaner.input.sulfate                       15553 non-null  float64\n",
      " 11  primary_cleaner.input.depressant                    15598 non-null  float64\n",
      " 12  primary_cleaner.input.feed_size                     16860 non-null  float64\n",
      " 13  primary_cleaner.input.xanthate                      15875 non-null  float64\n",
      " 14  primary_cleaner.output.concentrate_ag               16778 non-null  float64\n",
      " 15  primary_cleaner.output.concentrate_pb               16502 non-null  float64\n",
      " 16  primary_cleaner.output.concentrate_sol              16224 non-null  float64\n",
      " 17  primary_cleaner.output.concentrate_au               16778 non-null  float64\n",
      " 18  primary_cleaner.output.tail_ag                      16777 non-null  float64\n",
      " 19  primary_cleaner.output.tail_pb                      16761 non-null  float64\n",
      " 20  primary_cleaner.output.tail_sol                     16579 non-null  float64\n",
      " 21  primary_cleaner.output.tail_au                      16777 non-null  float64\n",
      " 22  primary_cleaner.state.floatbank8_a_air              16820 non-null  float64\n",
      " 23  primary_cleaner.state.floatbank8_a_level            16827 non-null  float64\n",
      " 24  primary_cleaner.state.floatbank8_b_air              16820 non-null  float64\n",
      " 25  primary_cleaner.state.floatbank8_b_level            16833 non-null  float64\n",
      " 26  primary_cleaner.state.floatbank8_c_air              16822 non-null  float64\n",
      " 27  primary_cleaner.state.floatbank8_c_level            16833 non-null  float64\n",
      " 28  primary_cleaner.state.floatbank8_d_air              16821 non-null  float64\n",
      " 29  primary_cleaner.state.floatbank8_d_level            16833 non-null  float64\n",
      " 30  rougher.calculation.sulfate_to_au_concentrate       16833 non-null  float64\n",
      " 31  rougher.calculation.floatbank10_sulfate_to_au_feed  16833 non-null  float64\n",
      " 32  rougher.calculation.floatbank11_sulfate_to_au_feed  16833 non-null  float64\n",
      " 33  rougher.calculation.au_pb_ratio                     15618 non-null  float64\n",
      " 34  rougher.input.feed_ag                               16778 non-null  float64\n",
      " 35  rougher.input.feed_pb                               16632 non-null  float64\n",
      " 36  rougher.input.feed_rate                             16347 non-null  float64\n",
      " 37  rougher.input.feed_size                             16443 non-null  float64\n",
      " 38  rougher.input.feed_sol                              16568 non-null  float64\n",
      " 39  rougher.input.feed_au                               16777 non-null  float64\n",
      " 40  rougher.input.floatbank10_sulfate                   15816 non-null  float64\n",
      " 41  rougher.input.floatbank10_xanthate                  16514 non-null  float64\n",
      " 42  rougher.input.floatbank11_sulfate                   16237 non-null  float64\n",
      " 43  rougher.input.floatbank11_xanthate                  14956 non-null  float64\n",
      " 44  rougher.output.concentrate_ag                       16778 non-null  float64\n",
      " 45  rougher.output.concentrate_pb                       16778 non-null  float64\n",
      " 46  rougher.output.concentrate_sol                      16698 non-null  float64\n",
      " 47  rougher.output.concentrate_au                       16778 non-null  float64\n",
      " 48  rougher.output.recovery                             14287 non-null  float64\n",
      " 49  rougher.output.tail_ag                              14610 non-null  float64\n",
      " 50  rougher.output.tail_pb                              16778 non-null  float64\n",
      " 51  rougher.output.tail_sol                             14611 non-null  float64\n",
      " 52  rougher.output.tail_au                              14611 non-null  float64\n",
      " 53  rougher.state.floatbank10_a_air                     16807 non-null  float64\n",
      " 54  rougher.state.floatbank10_a_level                   16807 non-null  float64\n",
      " 55  rougher.state.floatbank10_b_air                     16807 non-null  float64\n",
      " 56  rougher.state.floatbank10_b_level                   16807 non-null  float64\n",
      " 57  rougher.state.floatbank10_c_air                     16807 non-null  float64\n",
      " 58  rougher.state.floatbank10_c_level                   16814 non-null  float64\n",
      " 59  rougher.state.floatbank10_d_air                     16802 non-null  float64\n",
      " 60  rougher.state.floatbank10_d_level                   16809 non-null  float64\n",
      " 61  rougher.state.floatbank10_e_air                     16257 non-null  float64\n",
      " 62  rougher.state.floatbank10_e_level                   16809 non-null  float64\n",
      " 63  rougher.state.floatbank10_f_air                     16802 non-null  float64\n",
      " 64  rougher.state.floatbank10_f_level                   16802 non-null  float64\n",
      " 65  secondary_cleaner.output.tail_ag                    16776 non-null  float64\n",
      " 66  secondary_cleaner.output.tail_pb                    16764 non-null  float64\n",
      " 67  secondary_cleaner.output.tail_sol                   14874 non-null  float64\n",
      " 68  secondary_cleaner.output.tail_au                    16778 non-null  float64\n",
      " 69  secondary_cleaner.state.floatbank2_a_air            16497 non-null  float64\n",
      " 70  secondary_cleaner.state.floatbank2_a_level          16751 non-null  float64\n",
      " 71  secondary_cleaner.state.floatbank2_b_air            16705 non-null  float64\n",
      " 72  secondary_cleaner.state.floatbank2_b_level          16748 non-null  float64\n",
      " 73  secondary_cleaner.state.floatbank3_a_air            16763 non-null  float64\n",
      " 74  secondary_cleaner.state.floatbank3_a_level          16747 non-null  float64\n",
      " 75  secondary_cleaner.state.floatbank3_b_air            16752 non-null  float64\n",
      " 76  secondary_cleaner.state.floatbank3_b_level          16750 non-null  float64\n",
      " 77  secondary_cleaner.state.floatbank4_a_air            16731 non-null  float64\n",
      " 78  secondary_cleaner.state.floatbank4_a_level          16747 non-null  float64\n",
      " 79  secondary_cleaner.state.floatbank4_b_air            16768 non-null  float64\n",
      " 80  secondary_cleaner.state.floatbank4_b_level          16767 non-null  float64\n",
      " 81  secondary_cleaner.state.floatbank5_a_air            16775 non-null  float64\n",
      " 82  secondary_cleaner.state.floatbank5_a_level          16775 non-null  float64\n",
      " 83  secondary_cleaner.state.floatbank5_b_air            16775 non-null  float64\n",
      " 84  secondary_cleaner.state.floatbank5_b_level          16776 non-null  float64\n",
      " 85  secondary_cleaner.state.floatbank6_a_air            16757 non-null  float64\n",
      " 86  secondary_cleaner.state.floatbank6_a_level          16775 non-null  float64\n",
      "dtypes: float64(86), object(1)\n",
      "memory usage: 11.2+ MB\n",
      "\n",
      "Info del dataframe gold_recovery_test\n",
      "<class 'pandas.core.frame.DataFrame'>\n",
      "RangeIndex: 5856 entries, 0 to 5855\n",
      "Data columns (total 53 columns):\n",
      " #   Column                                      Non-Null Count  Dtype  \n",
      "---  ------                                      --------------  -----  \n",
      " 0   date                                        5856 non-null   object \n",
      " 1   primary_cleaner.input.sulfate               5554 non-null   float64\n",
      " 2   primary_cleaner.input.depressant            5572 non-null   float64\n",
      " 3   primary_cleaner.input.feed_size             5856 non-null   float64\n",
      " 4   primary_cleaner.input.xanthate              5690 non-null   float64\n",
      " 5   primary_cleaner.state.floatbank8_a_air      5840 non-null   float64\n",
      " 6   primary_cleaner.state.floatbank8_a_level    5840 non-null   float64\n",
      " 7   primary_cleaner.state.floatbank8_b_air      5840 non-null   float64\n",
      " 8   primary_cleaner.state.floatbank8_b_level    5840 non-null   float64\n",
      " 9   primary_cleaner.state.floatbank8_c_air      5840 non-null   float64\n",
      " 10  primary_cleaner.state.floatbank8_c_level    5840 non-null   float64\n",
      " 11  primary_cleaner.state.floatbank8_d_air      5840 non-null   float64\n",
      " 12  primary_cleaner.state.floatbank8_d_level    5840 non-null   float64\n",
      " 13  rougher.input.feed_ag                       5840 non-null   float64\n",
      " 14  rougher.input.feed_pb                       5840 non-null   float64\n",
      " 15  rougher.input.feed_rate                     5816 non-null   float64\n",
      " 16  rougher.input.feed_size                     5834 non-null   float64\n",
      " 17  rougher.input.feed_sol                      5789 non-null   float64\n",
      " 18  rougher.input.feed_au                       5840 non-null   float64\n",
      " 19  rougher.input.floatbank10_sulfate           5599 non-null   float64\n",
      " 20  rougher.input.floatbank10_xanthate          5733 non-null   float64\n",
      " 21  rougher.input.floatbank11_sulfate           5801 non-null   float64\n",
      " 22  rougher.input.floatbank11_xanthate          5503 non-null   float64\n",
      " 23  rougher.state.floatbank10_a_air             5839 non-null   float64\n",
      " 24  rougher.state.floatbank10_a_level           5840 non-null   float64\n",
      " 25  rougher.state.floatbank10_b_air             5839 non-null   float64\n",
      " 26  rougher.state.floatbank10_b_level           5840 non-null   float64\n",
      " 27  rougher.state.floatbank10_c_air             5839 non-null   float64\n",
      " 28  rougher.state.floatbank10_c_level           5840 non-null   float64\n",
      " 29  rougher.state.floatbank10_d_air             5839 non-null   float64\n",
      " 30  rougher.state.floatbank10_d_level           5840 non-null   float64\n",
      " 31  rougher.state.floatbank10_e_air             5839 non-null   float64\n",
      " 32  rougher.state.floatbank10_e_level           5840 non-null   float64\n",
      " 33  rougher.state.floatbank10_f_air             5839 non-null   float64\n",
      " 34  rougher.state.floatbank10_f_level           5840 non-null   float64\n",
      " 35  secondary_cleaner.state.floatbank2_a_air    5836 non-null   float64\n",
      " 36  secondary_cleaner.state.floatbank2_a_level  5840 non-null   float64\n",
      " 37  secondary_cleaner.state.floatbank2_b_air    5833 non-null   float64\n",
      " 38  secondary_cleaner.state.floatbank2_b_level  5840 non-null   float64\n",
      " 39  secondary_cleaner.state.floatbank3_a_air    5822 non-null   float64\n",
      " 40  secondary_cleaner.state.floatbank3_a_level  5840 non-null   float64\n",
      " 41  secondary_cleaner.state.floatbank3_b_air    5840 non-null   float64\n",
      " 42  secondary_cleaner.state.floatbank3_b_level  5840 non-null   float64\n",
      " 43  secondary_cleaner.state.floatbank4_a_air    5840 non-null   float64\n",
      " 44  secondary_cleaner.state.floatbank4_a_level  5840 non-null   float64\n",
      " 45  secondary_cleaner.state.floatbank4_b_air    5840 non-null   float64\n",
      " 46  secondary_cleaner.state.floatbank4_b_level  5840 non-null   float64\n",
      " 47  secondary_cleaner.state.floatbank5_a_air    5840 non-null   float64\n",
      " 48  secondary_cleaner.state.floatbank5_a_level  5840 non-null   float64\n",
      " 49  secondary_cleaner.state.floatbank5_b_air    5840 non-null   float64\n",
      " 50  secondary_cleaner.state.floatbank5_b_level  5840 non-null   float64\n",
      " 51  secondary_cleaner.state.floatbank6_a_air    5840 non-null   float64\n",
      " 52  secondary_cleaner.state.floatbank6_a_level  5840 non-null   float64\n",
      "dtypes: float64(52), object(1)\n",
      "memory usage: 2.4+ MB\n",
      "\n",
      "Info del dataframe gold_recovery_full\n",
      "<class 'pandas.core.frame.DataFrame'>\n",
      "RangeIndex: 22716 entries, 0 to 22715\n",
      "Data columns (total 87 columns):\n",
      " #   Column                                              Non-Null Count  Dtype  \n",
      "---  ------                                              --------------  -----  \n",
      " 0   date                                                22716 non-null  object \n",
      " 1   final.output.concentrate_ag                         22627 non-null  float64\n",
      " 2   final.output.concentrate_pb                         22629 non-null  float64\n",
      " 3   final.output.concentrate_sol                        22331 non-null  float64\n",
      " 4   final.output.concentrate_au                         22630 non-null  float64\n",
      " 5   final.output.recovery                               20753 non-null  float64\n",
      " 6   final.output.tail_ag                                22633 non-null  float64\n",
      " 7   final.output.tail_pb                                22516 non-null  float64\n",
      " 8   final.output.tail_sol                               22445 non-null  float64\n",
      " 9   final.output.tail_au                                22635 non-null  float64\n",
      " 10  primary_cleaner.input.sulfate                       21107 non-null  float64\n",
      " 11  primary_cleaner.input.depressant                    21170 non-null  float64\n",
      " 12  primary_cleaner.input.feed_size                     22716 non-null  float64\n",
      " 13  primary_cleaner.input.xanthate                      21565 non-null  float64\n",
      " 14  primary_cleaner.output.concentrate_ag               22618 non-null  float64\n",
      " 15  primary_cleaner.output.concentrate_pb               22268 non-null  float64\n",
      " 16  primary_cleaner.output.concentrate_sol              21918 non-null  float64\n",
      " 17  primary_cleaner.output.concentrate_au               22618 non-null  float64\n",
      " 18  primary_cleaner.output.tail_ag                      22614 non-null  float64\n",
      " 19  primary_cleaner.output.tail_pb                      22594 non-null  float64\n",
      " 20  primary_cleaner.output.tail_sol                     22365 non-null  float64\n",
      " 21  primary_cleaner.output.tail_au                      22617 non-null  float64\n",
      " 22  primary_cleaner.state.floatbank8_a_air              22660 non-null  float64\n",
      " 23  primary_cleaner.state.floatbank8_a_level            22667 non-null  float64\n",
      " 24  primary_cleaner.state.floatbank8_b_air              22660 non-null  float64\n",
      " 25  primary_cleaner.state.floatbank8_b_level            22673 non-null  float64\n",
      " 26  primary_cleaner.state.floatbank8_c_air              22662 non-null  float64\n",
      " 27  primary_cleaner.state.floatbank8_c_level            22673 non-null  float64\n",
      " 28  primary_cleaner.state.floatbank8_d_air              22661 non-null  float64\n",
      " 29  primary_cleaner.state.floatbank8_d_level            22673 non-null  float64\n",
      " 30  rougher.calculation.sulfate_to_au_concentrate       22672 non-null  float64\n",
      " 31  rougher.calculation.floatbank10_sulfate_to_au_feed  22672 non-null  float64\n",
      " 32  rougher.calculation.floatbank11_sulfate_to_au_feed  22672 non-null  float64\n",
      " 33  rougher.calculation.au_pb_ratio                     21089 non-null  float64\n",
      " 34  rougher.input.feed_ag                               22618 non-null  float64\n",
      " 35  rougher.input.feed_pb                               22472 non-null  float64\n",
      " 36  rougher.input.feed_rate                             22163 non-null  float64\n",
      " 37  rougher.input.feed_size                             22277 non-null  float64\n",
      " 38  rougher.input.feed_sol                              22357 non-null  float64\n",
      " 39  rougher.input.feed_au                               22617 non-null  float64\n",
      " 40  rougher.input.floatbank10_sulfate                   21415 non-null  float64\n",
      " 41  rougher.input.floatbank10_xanthate                  22247 non-null  float64\n",
      " 42  rougher.input.floatbank11_sulfate                   22038 non-null  float64\n",
      " 43  rougher.input.floatbank11_xanthate                  20459 non-null  float64\n",
      " 44  rougher.output.concentrate_ag                       22618 non-null  float64\n",
      " 45  rougher.output.concentrate_pb                       22618 non-null  float64\n",
      " 46  rougher.output.concentrate_sol                      22526 non-null  float64\n",
      " 47  rougher.output.concentrate_au                       22618 non-null  float64\n",
      " 48  rougher.output.recovery                             19597 non-null  float64\n",
      " 49  rougher.output.tail_ag                              19979 non-null  float64\n",
      " 50  rougher.output.tail_pb                              22618 non-null  float64\n",
      " 51  rougher.output.tail_sol                             19980 non-null  float64\n",
      " 52  rougher.output.tail_au                              19980 non-null  float64\n",
      " 53  rougher.state.floatbank10_a_air                     22646 non-null  float64\n",
      " 54  rougher.state.floatbank10_a_level                   22647 non-null  float64\n",
      " 55  rougher.state.floatbank10_b_air                     22646 non-null  float64\n",
      " 56  rougher.state.floatbank10_b_level                   22647 non-null  float64\n",
      " 57  rougher.state.floatbank10_c_air                     22646 non-null  float64\n",
      " 58  rougher.state.floatbank10_c_level                   22654 non-null  float64\n",
      " 59  rougher.state.floatbank10_d_air                     22641 non-null  float64\n",
      " 60  rougher.state.floatbank10_d_level                   22649 non-null  float64\n",
      " 61  rougher.state.floatbank10_e_air                     22096 non-null  float64\n",
      " 62  rougher.state.floatbank10_e_level                   22649 non-null  float64\n",
      " 63  rougher.state.floatbank10_f_air                     22641 non-null  float64\n",
      " 64  rougher.state.floatbank10_f_level                   22642 non-null  float64\n",
      " 65  secondary_cleaner.output.tail_ag                    22616 non-null  float64\n",
      " 66  secondary_cleaner.output.tail_pb                    22600 non-null  float64\n",
      " 67  secondary_cleaner.output.tail_sol                   20501 non-null  float64\n",
      " 68  secondary_cleaner.output.tail_au                    22618 non-null  float64\n",
      " 69  secondary_cleaner.state.floatbank2_a_air            22333 non-null  float64\n",
      " 70  secondary_cleaner.state.floatbank2_a_level          22591 non-null  float64\n",
      " 71  secondary_cleaner.state.floatbank2_b_air            22538 non-null  float64\n",
      " 72  secondary_cleaner.state.floatbank2_b_level          22588 non-null  float64\n",
      " 73  secondary_cleaner.state.floatbank3_a_air            22585 non-null  float64\n",
      " 74  secondary_cleaner.state.floatbank3_a_level          22587 non-null  float64\n",
      " 75  secondary_cleaner.state.floatbank3_b_air            22592 non-null  float64\n",
      " 76  secondary_cleaner.state.floatbank3_b_level          22590 non-null  float64\n",
      " 77  secondary_cleaner.state.floatbank4_a_air            22571 non-null  float64\n",
      " 78  secondary_cleaner.state.floatbank4_a_level          22587 non-null  float64\n",
      " 79  secondary_cleaner.state.floatbank4_b_air            22608 non-null  float64\n",
      " 80  secondary_cleaner.state.floatbank4_b_level          22607 non-null  float64\n",
      " 81  secondary_cleaner.state.floatbank5_a_air            22615 non-null  float64\n",
      " 82  secondary_cleaner.state.floatbank5_a_level          22615 non-null  float64\n",
      " 83  secondary_cleaner.state.floatbank5_b_air            22615 non-null  float64\n",
      " 84  secondary_cleaner.state.floatbank5_b_level          22616 non-null  float64\n",
      " 85  secondary_cleaner.state.floatbank6_a_air            22597 non-null  float64\n",
      " 86  secondary_cleaner.state.floatbank6_a_level          22615 non-null  float64\n",
      "dtypes: float64(86), object(1)\n",
      "memory usage: 15.1+ MB\n"
     ]
    }
   ],
   "source": [
    "print(\"Info del dataframe gold_recovery_train\")\n",
    "gold_recovery_train.info()\n",
    "print()\n",
    "print(\"Info del dataframe gold_recovery_test\")\n",
    "gold_recovery_test.info()\n",
    "print()\n",
    "print(\"Info del dataframe gold_recovery_full\")\n",
    "gold_recovery_full.info()"
   ]
  },
  {
   "cell_type": "markdown",
   "metadata": {},
   "source": [
    "### Manejando valores nulos"
   ]
  },
  {
   "cell_type": "code",
   "execution_count": 4,
   "metadata": {
    "trusted": false
   },
   "outputs": [
    {
     "name": "stdout",
     "output_type": "stream",
     "text": [
      "date                                            0\n",
      "final.output.concentrate_ag                    72\n",
      "final.output.concentrate_pb                    72\n",
      "final.output.concentrate_sol                  370\n",
      "final.output.concentrate_au                    71\n",
      "                                             ... \n",
      "secondary_cleaner.state.floatbank5_a_level     85\n",
      "secondary_cleaner.state.floatbank5_b_air       85\n",
      "secondary_cleaner.state.floatbank5_b_level     84\n",
      "secondary_cleaner.state.floatbank6_a_air      103\n",
      "secondary_cleaner.state.floatbank6_a_level     85\n",
      "Length: 87, dtype: int64\n",
      "\n",
      "date                                            0\n",
      "primary_cleaner.input.sulfate                 302\n",
      "primary_cleaner.input.depressant              284\n",
      "primary_cleaner.input.feed_size                 0\n",
      "primary_cleaner.input.xanthate                166\n",
      "primary_cleaner.state.floatbank8_a_air         16\n",
      "primary_cleaner.state.floatbank8_a_level       16\n",
      "primary_cleaner.state.floatbank8_b_air         16\n",
      "primary_cleaner.state.floatbank8_b_level       16\n",
      "primary_cleaner.state.floatbank8_c_air         16\n",
      "primary_cleaner.state.floatbank8_c_level       16\n",
      "primary_cleaner.state.floatbank8_d_air         16\n",
      "primary_cleaner.state.floatbank8_d_level       16\n",
      "rougher.input.feed_ag                          16\n",
      "rougher.input.feed_pb                          16\n",
      "rougher.input.feed_rate                        40\n",
      "rougher.input.feed_size                        22\n",
      "rougher.input.feed_sol                         67\n",
      "rougher.input.feed_au                          16\n",
      "rougher.input.floatbank10_sulfate             257\n",
      "rougher.input.floatbank10_xanthate            123\n",
      "rougher.input.floatbank11_sulfate              55\n",
      "rougher.input.floatbank11_xanthate            353\n",
      "rougher.state.floatbank10_a_air                17\n",
      "rougher.state.floatbank10_a_level              16\n",
      "rougher.state.floatbank10_b_air                17\n",
      "rougher.state.floatbank10_b_level              16\n",
      "rougher.state.floatbank10_c_air                17\n",
      "rougher.state.floatbank10_c_level              16\n",
      "rougher.state.floatbank10_d_air                17\n",
      "rougher.state.floatbank10_d_level              16\n",
      "rougher.state.floatbank10_e_air                17\n",
      "rougher.state.floatbank10_e_level              16\n",
      "rougher.state.floatbank10_f_air                17\n",
      "rougher.state.floatbank10_f_level              16\n",
      "secondary_cleaner.state.floatbank2_a_air       20\n",
      "secondary_cleaner.state.floatbank2_a_level     16\n",
      "secondary_cleaner.state.floatbank2_b_air       23\n",
      "secondary_cleaner.state.floatbank2_b_level     16\n",
      "secondary_cleaner.state.floatbank3_a_air       34\n",
      "secondary_cleaner.state.floatbank3_a_level     16\n",
      "secondary_cleaner.state.floatbank3_b_air       16\n",
      "secondary_cleaner.state.floatbank3_b_level     16\n",
      "secondary_cleaner.state.floatbank4_a_air       16\n",
      "secondary_cleaner.state.floatbank4_a_level     16\n",
      "secondary_cleaner.state.floatbank4_b_air       16\n",
      "secondary_cleaner.state.floatbank4_b_level     16\n",
      "secondary_cleaner.state.floatbank5_a_air       16\n",
      "secondary_cleaner.state.floatbank5_a_level     16\n",
      "secondary_cleaner.state.floatbank5_b_air       16\n",
      "secondary_cleaner.state.floatbank5_b_level     16\n",
      "secondary_cleaner.state.floatbank6_a_air       16\n",
      "secondary_cleaner.state.floatbank6_a_level     16\n",
      "dtype: int64\n",
      "date                                            0\n",
      "final.output.concentrate_ag                    89\n",
      "final.output.concentrate_pb                    87\n",
      "final.output.concentrate_sol                  385\n",
      "final.output.concentrate_au                    86\n",
      "                                             ... \n",
      "secondary_cleaner.state.floatbank5_a_level    101\n",
      "secondary_cleaner.state.floatbank5_b_air      101\n",
      "secondary_cleaner.state.floatbank5_b_level    100\n",
      "secondary_cleaner.state.floatbank6_a_air      119\n",
      "secondary_cleaner.state.floatbank6_a_level    101\n",
      "Length: 87, dtype: int64\n"
     ]
    }
   ],
   "source": [
    "nulls_train = gold_recovery_train.isnull().sum()\n",
    "print(nulls_train)\n",
    "print()\n",
    "nulls_test = gold_recovery_test.isnull().sum()\n",
    "print(nulls_test)\n",
    "nulls_full = gold_recovery_full.isnull().sum()\n",
    "print(nulls_full)"
   ]
  },
  {
   "cell_type": "markdown",
   "metadata": {},
   "source": [
    "### Convirtiendo en 0 los valores nulos"
   ]
  },
  {
   "cell_type": "code",
   "execution_count": 5,
   "metadata": {
    "trusted": false
   },
   "outputs": [],
   "source": [
    "gold_recovery_train = gold_recovery_train.fillna(0)\n",
    "gold_recovery_test = gold_recovery_test.fillna(0)\n",
    "gold_recovery_full = gold_recovery_full.fillna(0)"
   ]
  },
  {
   "cell_type": "markdown",
   "metadata": {},
   "source": [
    "### Manejando valores duplicados"
   ]
  },
  {
   "cell_type": "code",
   "execution_count": 6,
   "metadata": {
    "trusted": false
   },
   "outputs": [
    {
     "name": "stdout",
     "output_type": "stream",
     "text": [
      "No existen registros duplicados en el DataFrame gold_recovery_train.\n",
      "No existen registros duplicados en el DataFrame gold_recovery_test.\n",
      "No existen registros duplicados en el DataFrame gold_recovery_full.\n"
     ]
    }
   ],
   "source": [
    "duplicated_train = gold_recovery_train.duplicated().sum()\n",
    "if duplicated_train > 0:\n",
    "    print(f\"Existen {duplicated_train} registros duplicados en el DataFrame gold_recovery_train.\")\n",
    "else:\n",
    "    print(\"No existen registros duplicados en el DataFrame gold_recovery_train.\")\n",
    "    \n",
    "duplicated_test = gold_recovery_test.duplicated().sum()\n",
    "if duplicated_test > 0:\n",
    "    print(f\"Existen {duplicated_test} registros duplicados en el DataFrame gold_recovery_test.\")\n",
    "else:\n",
    "    print(\"No existen registros duplicados en el DataFrame gold_recovery_test.\")\n",
    "\n",
    "duplicated_full = gold_recovery_full.duplicated().sum()\n",
    "if duplicated_full > 0:\n",
    "    print(f\"Existen {duplicated_full} registros duplicados en el DataFrame gold_recovery_test.\")\n",
    "else:\n",
    "    print(\"No existen registros duplicados en el DataFrame gold_recovery_full.\")"
   ]
  },
  {
   "cell_type": "markdown",
   "metadata": {},
   "source": [
    "## Comprobación de la recuperación"
   ]
  },
  {
   "cell_type": "code",
   "execution_count": 7,
   "metadata": {
    "trusted": false
   },
   "outputs": [
    {
     "name": "stdout",
     "output_type": "stream",
     "text": [
      "0        100.0\n",
      "1        100.0\n",
      "2        100.0\n",
      "3        100.0\n",
      "4        100.0\n",
      "         ...  \n",
      "16855    100.0\n",
      "16856    100.0\n",
      "16857    100.0\n",
      "16858    100.0\n",
      "16859    100.0\n",
      "Length: 16860, dtype: float64\n"
     ]
    }
   ],
   "source": [
    "# Calcula la proporción de oro en el concentrado rougher\n",
    "C_rougher= gold_recovery_train['rougher.output.concentrate_au'] / (gold_recovery_train['final.output.concentrate_au'])\n",
    "\n",
    "# Calcula la proporción de oro en la alimentación rougher\n",
    "F_rougher = gold_recovery_train['rougher.input.feed_au'] / (gold_recovery_train['rougher.output.concentrate_au'])\n",
    "\n",
    "# Calcula la proporción de oro en las colas rougher\n",
    "T_rougher = gold_recovery_train['rougher.output.tail_au'] / (gold_recovery_train['final.output.concentrate_au'])\n",
    "\n",
    "# Calcula la recuperación del concentrado rougher\n",
    "recuperacion = ((C_rougher * F_rougher) - T_rougher) / ((F_rougher * C_rougher) - T_rougher) * 100\n",
    "\n",
    "print(recuperacion)"
   ]
  },
  {
   "cell_type": "markdown",
   "metadata": {},
   "source": [
    "### Encuentra el EAM"
   ]
  },
  {
   "cell_type": "code",
   "execution_count": 8,
   "metadata": {
    "trusted": false
   },
   "outputs": [
    {
     "name": "stdout",
     "output_type": "stream",
     "text": [
      "Recuperación calculada:\n",
      "0        100.0\n",
      "1        100.0\n",
      "2        100.0\n",
      "3        100.0\n",
      "4        100.0\n",
      "         ...  \n",
      "16855    100.0\n",
      "16856    100.0\n",
      "16857    100.0\n",
      "16858    100.0\n",
      "16859    100.0\n",
      "Length: 16860, dtype: float64\n",
      "\n",
      "Recuperación real:\n",
      "0        87.107763\n",
      "1        86.843261\n",
      "2        86.842308\n",
      "3        87.226430\n",
      "4        86.688794\n",
      "           ...    \n",
      "16855    89.574376\n",
      "16856    87.724007\n",
      "16857    88.890579\n",
      "16858    89.858126\n",
      "16859    89.514960\n",
      "Name: rougher.output.recovery, Length: 16860, dtype: float64\n",
      "\n",
      "EAM:\n",
      "22.576067702891176\n"
     ]
    }
   ],
   "source": [
    "\n",
    "\n",
    "# Calcula la recuperación\n",
    "C_rougher = gold_recovery_train['rougher.output.concentrate_au'] / gold_recovery_train['final.output.concentrate_au']\n",
    "F_rougher = gold_recovery_train['rougher.input.feed_au'] / gold_recovery_train['rougher.output.concentrate_au']\n",
    "T_rougher = gold_recovery_train['rougher.output.tail_au'] / gold_recovery_train['final.output.concentrate_au']\n",
    "\n",
    "recuperacion_calculada = ((C_rougher * F_rougher) - T_rougher) / ((F_rougher * C_rougher) - T_rougher) * 100\n",
    "\n",
    "# Calcula el EAM entre tus cálculos y los valores de la característica\n",
    "recuperacion_real = gold_recovery_train['rougher.output.recovery']\n",
    "eam = np.mean(np.abs(recuperacion_calculada - recuperacion_real))\n",
    "\n",
    "print(\"Recuperación calculada:\")\n",
    "print(recuperacion_calculada)\n",
    "print(\"\\nRecuperación real:\")\n",
    "print(recuperacion_real)\n",
    "print(\"\\nEAM:\")\n",
    "print(eam)"
   ]
  },
  {
   "cell_type": "markdown",
   "metadata": {},
   "source": [
    "La precisión del modelo es moderada: Un EAM de 22.57% indica que el modelo tiene una precisión moderada en la predicción de la recuperación. Esto significa que el modelo puede predecir la recuperación con un error absoluto medio de aproximadamente 22.57%."
   ]
  },
  {
   "cell_type": "markdown",
   "metadata": {},
   "source": [
    "### Características no presentes en el dataframe gold_recovery_test"
   ]
  },
  {
   "cell_type": "code",
   "execution_count": 9,
   "metadata": {
    "trusted": false
   },
   "outputs": [
    {
     "name": "stdout",
     "output_type": "stream",
     "text": [
      "Tipo de dato de cada columna que no está en gold_recovery_test:\n",
      "\n",
      "secondary_cleaner.output.tail_au: float64\n",
      "final.output.concentrate_ag: float64\n",
      "rougher.output.tail_sol: float64\n",
      "primary_cleaner.output.tail_sol: float64\n",
      "rougher.output.tail_au: float64\n",
      "secondary_cleaner.output.tail_ag: float64\n",
      "primary_cleaner.output.concentrate_au: float64\n",
      "rougher.calculation.floatbank10_sulfate_to_au_feed: float64\n",
      "final.output.recovery: float64\n",
      "rougher.calculation.au_pb_ratio: float64\n",
      "primary_cleaner.output.tail_pb: float64\n",
      "primary_cleaner.output.tail_au: float64\n",
      "rougher.output.concentrate_ag: float64\n",
      "primary_cleaner.output.concentrate_pb: float64\n",
      "final.output.tail_ag: float64\n",
      "rougher.output.recovery: float64\n",
      "rougher.calculation.sulfate_to_au_concentrate: float64\n",
      "rougher.output.concentrate_au: float64\n",
      "final.output.concentrate_au: float64\n",
      "final.output.tail_pb: float64\n",
      "final.output.tail_au: float64\n",
      "final.output.concentrate_sol: float64\n",
      "secondary_cleaner.output.tail_pb: float64\n",
      "primary_cleaner.output.tail_ag: float64\n",
      "rougher.calculation.floatbank11_sulfate_to_au_feed: float64\n",
      "rougher.output.concentrate_sol: float64\n",
      "rougher.output.concentrate_pb: float64\n",
      "secondary_cleaner.output.tail_sol: float64\n",
      "final.output.tail_sol: float64\n",
      "primary_cleaner.output.concentrate_sol: float64\n",
      "rougher.output.tail_pb: float64\n",
      "primary_cleaner.output.concentrate_ag: float64\n",
      "rougher.output.tail_ag: float64\n",
      "final.output.concentrate_pb: float64\n",
      "\n",
      "Número de columnas no presentes en gold_recovery_train respecto a gold_recovery_test:\n",
      "34\n"
     ]
    }
   ],
   "source": [
    "# Obtén la lista de columnas del dataframe gold_recovery_train\n",
    "columnas_train = gold_recovery_train.columns.tolist()\n",
    "\n",
    "# Obtén la lista de columnas del dataframe gold_recovery_test\n",
    "columnas_test = gold_recovery_test.columns.tolist()\n",
    "\n",
    "# Obtén la lista de columnas que no están en gold_recovery_test respecto a gold_recovery_train\n",
    "columnas_no_presentes = list(set(gold_recovery_train.columns) - set(gold_recovery_test.columns))\n",
    "\n",
    "# Imprime el tipo de dato de cada columna que no está en gold_recovery_test\n",
    "print(\"Tipo de dato de cada columna que no está en gold_recovery_test:\")\n",
    "print()\n",
    "for columna in columnas_no_presentes:\n",
    "    print(f\"{columna}: {gold_recovery_train[columna].dtype}\")\n",
    "\n",
    "# Imprime el número de columnas no presentes en cada dataframe\n",
    "print(\"\\nNúmero de columnas no presentes en gold_recovery_train respecto a gold_recovery_test:\")\n",
    "print(len(columnas_no_presentes))"
   ]
  },
  {
   "cell_type": "markdown",
   "metadata": {},
   "source": [
    "Son 34 las caracteristicas no presentes en el dataframe gold_recovery_test, todas contienen datos de tipo flotante y son de tipo output."
   ]
  },
  {
   "cell_type": "markdown",
   "metadata": {},
   "source": [
    "### Concentración de metales"
   ]
  },
  {
   "cell_type": "markdown",
   "metadata": {},
   "source": [
    "Observa cómo cambia la concentración de metales (Au, Ag, Pb) en función de la etapa de purificación. en el dataframe de entrenamiento"
   ]
  },
  {
   "cell_type": "code",
   "execution_count": 10,
   "metadata": {
    "trusted": false
   },
   "outputs": [],
   "source": [
    "\n",
    "# Agrega las columnas seleccionadas a df1\n",
    "gold_recovery_train_com = pd.merge(gold_recovery_train, gold_recovery_full[['final.output.concentrate_ag', 'final.output.concentrate_pb', 'final.output.concentrate_au','final.output.tail_ag','final.output.tail_pb','final.output.tail_au']], left_index=True, right_index=True)\n",
    "gold_recovery_test_com = pd.merge(gold_recovery_train, gold_recovery_full[['final.output.concentrate_ag', 'final.output.concentrate_pb', 'final.output.concentrate_au', 'final.output.tail_ag','final.output.tail_pb','final.output.tail_au']], left_index=True, right_index=True)\n",
    "\n",
    "#print(gold_recovery_train_com)"
   ]
  },
  {
   "cell_type": "markdown",
   "metadata": {},
   "source": [
    "No se proporcionan datos sobre la concentración de metales (Au, Ag, Pb) en el dataframe que se muestra. Por lo anterior, es necesario segmentar los datos de nueva cuenta para contar con todas las características posibles en los datos de entrenamiento y prueba, por lo que optaremos por tomar las columnas faltantes del dataframe gold_recovery_full."
   ]
  },
  {
   "cell_type": "markdown",
   "metadata": {},
   "source": [
    "### Estadísticas del tamaño de las partículas de la alimentación en los conjuntos de entrenamiento y prueba"
   ]
  },
  {
   "cell_type": "code",
   "execution_count": 11,
   "metadata": {
    "trusted": false
   },
   "outputs": [
    {
     "name": "stdout",
     "output_type": "stream",
     "text": [
      "Estadísticas del tamaño de las partículas de la alimentación en el conjunto de entrenamiento:\n",
      "count    16860.000000\n",
      "mean        57.225194\n",
      "std         25.321690\n",
      "min          0.000000\n",
      "25%         47.080885\n",
      "50%         53.748375\n",
      "75%         64.587648\n",
      "max        484.967466\n",
      "Name: rougher.input.feed_size, dtype: float64\n",
      "\n",
      "Estadísticas del tamaño de las partículas de la alimentación en el conjunto de prueba:\n",
      "count    5856.000000\n",
      "mean       55.727387\n",
      "std        22.938273\n",
      "min         0.000000\n",
      "25%        43.835387\n",
      "50%        49.950032\n",
      "75%        61.608216\n",
      "max       477.445473\n",
      "Name: rougher.input.feed_size, dtype: float64\n"
     ]
    }
   ],
   "source": [
    "print(\"Estadísticas del tamaño de las partículas de la alimentación en el conjunto de entrenamiento:\")\n",
    "print(gold_recovery_train['rougher.input.feed_size'].describe())\n",
    "\n",
    "print(\"\\nEstadísticas del tamaño de las partículas de la alimentación en el conjunto de prueba:\")\n",
    "print(gold_recovery_test['rougher.input.feed_size'].describe())"
   ]
  },
  {
   "cell_type": "code",
   "execution_count": 12,
   "metadata": {
    "trusted": false
   },
   "outputs": [
    {
     "data": {
      "image/png": "[encoded data removed]",
      "text/plain": [
       "<Figure size 640x480 with 1 Axes>"
      ]
     },
     "metadata": {},
     "output_type": "display_data"
    }
   ],
   "source": [
    "\n",
    "\n",
    "plt.hist(gold_recovery_train['rougher.input.feed_size'], bins=50, alpha=0.5, label='Conjunto de entrenamiento')\n",
    "plt.hist(gold_recovery_test['rougher.input.feed_size'], bins=50, alpha=0.5, label='Conjunto de prueba')\n",
    "plt.xlabel('Tamaño de las partículas de la alimentación')\n",
    "plt.ylabel('Frecuencia')\n",
    "plt.title('Distribución del tamaño de las partículas de la alimentación')\n",
    "plt.legend()\n",
    "plt.show()\n"
   ]
  },
  {
   "cell_type": "markdown",
   "metadata": {},
   "source": [
    "### Comparando las distribuciones del tamaño de las partículas de la alimentación en el conjunto de entrenamiento y en el conjunto de prueba"
   ]
  },
  {
   "cell_type": "code",
   "execution_count": 50,
   "metadata": {
    "trusted": false
   },
   "outputs": [
    {
     "data": {
      "image/png": "[encoded data removed]",
      "text/plain": [
       "<Figure size 1500x500 with 3 Axes>"
      ]
     },
     "metadata": {},
     "output_type": "display_data"
    }
   ],
   "source": [
    "import seaborn as sns\n",
    "import matplotlib.pyplot as plt\n",
    "\n",
    "fig, axs = plt.subplots(1, 3, figsize=(15, 5))\n",
    "\n",
    "# Histograma y KDE para final.output.tail_ag_y\n",
    "sns.histplot(gold_recovery_train_com['final.output.tail_ag_y'], ax=axs[0], label='Conjunto de entrenamiento', color='blue',kde=True)\n",
    "sns.histplot(gold_recovery_test_com['final.output.tail_ag_y'], ax=axs[0], label='Conjunto de prueba', color='red')\n",
    "axs[0].set_title('Distribución de final.output.tail_ag_y')\n",
    "axs[0].legend()\n",
    "\n",
    "# Histograma y KDE para final.output.tail_pb_y\n",
    "sns.histplot(gold_recovery_train_com['final.output.tail_pb_y'], ax=axs[1], label='Conjunto de entrenamiento', color='blue',kde=True)\n",
    "sns.histplot(gold_recovery_test_com['final.output.tail_pb_y'], ax=axs[1], label='Conjunto de prueba', color='red')\n",
    "axs[1].set_title('Distribución de final.output.tail_pb_y')\n",
    "axs[1].legend()\n",
    "\n",
    "# Histograma y KDE para final.output.tail_au_y\n",
    "sns.histplot(gold_recovery_train_com['final.output.tail_au_y'], ax=axs[2], label='Conjunto de entrenamiento', color='black',kde=True)\n",
    "sns.histplot(gold_recovery_test_com['final.output.tail_au_y'], ax=axs[2], label='Conjunto de prueba', color='red')\n",
    "axs[2].set_title('Distribución de final.output.tail_au_y')\n",
    "axs[2].legend()\n",
    "\n",
    "plt.tight_layout()\n",
    "plt.show()"
   ]
  },
  {
   "cell_type": "markdown",
   "metadata": {},
   "source": [
    "En esta muestra, se observan datos de la concentración de metales (Au, Ag, Pb) en diferentes etapas del proceso de purificación. Algunas observaciones sobre cómo cambia la concentración de metales en función de la etapa de purificación:\n",
    "\n",
    "* La concentración de plata (Ag) en el concentrado final varía entre 6,03 y 6,15% en las diferentes horas del día. Esto sugiere que la concentración de plata en el concentrado final es relativamente estable a lo largo del día.\n",
    "\n",
    "* La concentración de plomo (Pb) en el concentrado final varía entre 9,89 y 10,21% en las diferentes horas del día. Esto sugiere que la concentración de plomo en el concentrado final es ligeramente más variable que la de plata.\n",
    "\n",
    "* La concentración de oro (Au) en el concentrado final varía entre 42,19 y 42,77% en las diferentes horas del día. Esto sugiere que la concentración de oro en el concentrado final es relativamente estable a lo largo del día.\n",
    "\n",
    "La recuperación de metales en el proceso de purificación varía entre 66,93 y 70,54% en las diferentes horas del día. Esto sugiere que la eficiencia del proceso de purificación es ligeramente variable a lo largo del día."
   ]
  },
  {
   "cell_type": "markdown",
   "metadata": {},
   "source": [
    "La distribución de los datos: La distribución de los datos en las columnas final.output.tail_ag_y, final.output.tail_pb_y y final.output.tail_au_y es similar entre el conjunto de entrenamiento y el conjunto de prueba.\n",
    "La línea de densidad: La línea de densidad en las gráficas de densidad es más visible en el conjunto de prueba que en el conjunto de entrenamiento, lo que sugiere que los datos del conjunto de prueba están más dispersos."
   ]
  },
  {
   "cell_type": "markdown",
   "metadata": {},
   "source": [
    "### Concentración de cada sustancia en cada etapa en los conjuntos de entrenamiento y prueba"
   ]
  },
  {
   "cell_type": "code",
   "execution_count": 13,
   "metadata": {
    "trusted": false
   },
   "outputs": [
    {
     "data": {
      "image/png": "[encoded data removed]",
      "text/plain": [
       "<Figure size 1000x600 with 1 Axes>"
      ]
     },
     "metadata": {},
     "output_type": "display_data"
    },
    {
     "name": "stdout",
     "output_type": "stream",
     "text": [
      "Número de filas antes de eliminar valores anormales (train): 16846\n",
      "Número de filas después de eliminar valores anormales (train): 16846\n",
      "Número de filas antes de eliminar valores anormales (test): 16846\n",
      "Número de filas después de eliminar valores anormales (test): 16846\n"
     ]
    }
   ],
   "source": [
    "\n",
    "# Carga los datos\n",
    "df_train = gold_recovery_train_com\n",
    "df_test = gold_recovery_test_com\n",
    "\n",
    "# Calcula la suma de las concentraciones de cada sustancia en cada etapa\n",
    "df_train['materia_prima_total'] = df_train['rougher.input.feed_ag'] + df_train['rougher.input.feed_pb'] + df_train['rougher.input.feed_sol'] + df_train['rougher.input.feed_au']\n",
    "df_train['concentrado_rougher_total'] = df_train['rougher.output.concentrate_ag'] + df_train['rougher.output.concentrate_pb'] + df_train['rougher.output.concentrate_sol'] + df_train['rougher.output.concentrate_au']\n",
    "df_train['concentrado_final_total'] = df_train['final.output.concentrate_ag_x'] + df_train['final.output.concentrate_pb_x'] + df_train['final.output.concentrate_sol'] + df_train['final.output.concentrate_au_x']\n",
    "df_train['cola_rougher_total'] = df_train['rougher.output.tail_ag'] + df_train['rougher.output.tail_pb'] + df_train['rougher.output.tail_au']\n",
    "\n",
    "df_test['materia_prima_total'] = df_test['rougher.input.feed_ag'] + df_test['rougher.input.feed_pb'] + df_test['rougher.input.feed_sol'] + df_test['rougher.input.feed_au']\n",
    "df_test['concentrado_rougher_total'] = df_test['rougher.output.concentrate_ag'] + df_test['rougher.output.concentrate_pb'] + df_test['rougher.output.concentrate_sol'] + df_test['rougher.output.concentrate_au']\n",
    "df_test['concentrado_final_total'] = df_test['final.output.concentrate_ag_x'] + df_test['final.output.concentrate_pb_x'] + df_test['final.output.concentrate_sol'] + df_test['final.output.concentrate_au_x']\n",
    "df_test['cola_rougher_total'] = df_test['rougher.output.tail_ag'] + df_test['rougher.output.tail_pb'] + df_test['rougher.output.tail_au']\n",
    "\n",
    "# Visualiza los resultados\n",
    "plt.figure(figsize=(10,6))\n",
    "plt.hist(df_train['materia_prima_total'], bins=50, alpha=0.5, label='Materia prima (train)')\n",
    "plt.hist(df_train['concentrado_rougher_total'], bins=50, alpha=0.5, label='Concentrado rougher (train)')\n",
    "plt.hist(df_train['concentrado_final_total'], bins=50, alpha=0.5, label='Concentrado final (train)')\n",
    "plt.hist(df_train['cola_rougher_total'], bins=50, alpha=0.5, label='Cola rougher (train)')\n",
    "\n",
    "plt.hist(df_test['materia_prima_total'], bins=50, alpha=0.5, label='Materia prima (test)')\n",
    "plt.hist(df_test['concentrado_rougher_total'], bins=50, alpha=0.5, label='Concentrado rougher (test)')\n",
    "plt.hist(df_test['concentrado_final_total'], bins=50, alpha=0.5, label='Concentrado final (test)')\n",
    "plt.hist(df_test['cola_rougher_total'], bins=50, alpha=0.5, label='Cola rougher (test)')\n",
    "\n",
    "plt.legend()\n",
    "plt.title('Concentración total')\n",
    "\n",
    "plt.show()\n",
    "\n",
    "# Calcula los z-scores\n",
    "z_scores_materia_prima_train = np.abs((df_train['materia_prima_total'] - df_train['materia_prima_total'].mean()) / df_train['materia_prima_total'].std())\n",
    "z_scores_concentrado_rougher_train = np.abs((df_train['concentrado_rougher_total'] - df_train['concentrado_rougher_total'].mean()) / df_train['concentrado_rougher_total'].std())\n",
    "z_scores_concentrado_final_train = np.abs((df_train['concentrado_final_total'] - df_train['concentrado_final_total'].mean()) / df_train['concentrado_final_total'].std())\n",
    "z_scores_cola_rougher_train = np.abs((df_train['cola_rougher_total'] - df_train['cola_rougher_total'].mean()) / df_train['cola_rougher_total'].std())\n",
    "\n",
    "z_scores_materia_prima_test = np.abs((df_test['materia_prima_total'] - df_test['materia_prima_total'].mean()) / df_test['materia_prima_total'].std())\n",
    "z_scores_concentrado_rougher_test = np.abs((df_test['concentrado_rougher_total'] - df_test['concentrado_rougher_total'].mean()) / df_test['concentrado_rougher_total'].std())\n",
    "z_scores_concentrado_final_test = np.abs((df_test['concentrado_final_total'] - df_test['concentrado_final_total'].mean()) / df_test['concentrado_final_total'].std())\n",
    "z_scores_cola_rougher_test = np.abs((df_test['cola_rougher_total'] - df_test['cola_rougher_total'].mean()) / df_test['cola_rougher_total'].std())\n",
    "\n",
    "# Elimina los valores anormales\n",
    "df_train = df_train[(z_scores_materia_prima_train < 3) & (z_scores_concentrado_rougher_train < 3) & (z_scores_concentrado_final_train < 3) & (z_scores_cola_rougher_train < 3)]\n",
    "df_test = df_test[(z_scores_materia_prima_test < 3) & (z_scores_concentrado_rougher_test < 3) & (z_scores_concentrado_final_test < 3) & (z_scores_cola_rougher_test < 3)]\n",
    "\n",
    "print(\"Número de filas antes de eliminar valores anormales (train):\", len(df_train))\n",
    "print(\"Número de filas después de eliminar valores anormales (train):\", len(df_train))\n",
    "print(\"Número de filas antes de eliminar valores anormales (test):\", len(df_test))\n",
    "print(\"Número de filas después de eliminar valores anormales (test):\", len(df_test))"
   ]
  },
  {
   "cell_type": "markdown",
   "metadata": {},
   "source": [
    "La razón por la que se elige el valor 3 es que, en una distribución normal, el 99.7% de los valores se encuentran dentro de 3 desviaciones estándar de la media. Esto se conoce como la regla de los 3 sigmas."
   ]
  },
  {
   "cell_type": "markdown",
   "metadata": {},
   "source": [
    "El análisis muestra que la distribución de las concentraciones totales es similar en ambos conjuntos de datos (train y test). Esto sugiere que los datos están bien distribuidos y que no hay sesgos significativos en la distribución de las concentraciones totales."
   ]
  },
  {
   "cell_type": "markdown",
   "metadata": {},
   "source": [
    "## Modelo"
   ]
  },
  {
   "cell_type": "markdown",
   "metadata": {},
   "source": [
    "### Convirtiendo la columna date a número"
   ]
  },
  {
   "cell_type": "code",
   "execution_count": 19,
   "metadata": {
    "trusted": false
   },
   "outputs": [],
   "source": [
    "# Convierte la columna date a un número de días desde una fecha de referencia\n",
    "gold_recovery_full['date'] = pd.to_datetime(gold_recovery_full['date'])\n",
    "gold_recovery_full['date'] = gold_recovery_full['date'].apply(lambda x: x.timestamp())"
   ]
  },
  {
   "cell_type": "markdown",
   "metadata": {},
   "source": [
    "Utilizamos en encoder para codificar variables categóricas en variables numéricas."
   ]
  },
  {
   "cell_type": "markdown",
   "metadata": {},
   "source": [
    "### sMAPE"
   ]
  },
  {
   "cell_type": "code",
   "execution_count": 20,
   "metadata": {
    "trusted": false
   },
   "outputs": [
    {
     "name": "stdout",
     "output_type": "stream",
     "text": [
      "11.91138811922267\n"
     ]
    }
   ],
   "source": [
    "\n",
    "\n",
    "# Carga el dataframe\n",
    "data = gold_recovery_full\n",
    "\n",
    "# Separa las variables predictoras y la variable objetivo\n",
    "features = data.drop(['final.output.concentrate_au'], axis=1)\n",
    "target = data['final.output.concentrate_au']\n",
    "\n",
    "# Entrena un modelo de regresión lineal\n",
    "from sklearn.linear_model import LinearRegression\n",
    "model = LinearRegression()\n",
    "model.fit(features, target)\n",
    "\n",
    "# Predice los valores de la variable objetivo\n",
    "y_pred = model.predict(features)\n",
    "\n",
    "# Calcula el sMAPE\n",
    "def calcular_smape(y_true, y_pred):\n",
    "    errores_absolutos = np.abs(y_true - y_pred)\n",
    "    valores_absolutos = np.abs(y_true) + np.abs(y_pred)\n",
    "    smape = np.mean(errores_absolutos / valores_absolutos) * 100\n",
    "    return smape\n",
    "\n",
    "smape = calcular_smape(target, y_pred)\n",
    "print(smape)"
   ]
  },
  {
   "cell_type": "markdown",
   "metadata": {},
   "source": [
    "El sMAPE es una medida de error que se utiliza para evaluar la precisión de un modelo de predicción. En este caso, el sMAPE de 11.911388193761326 significa que el modelo de regresión lineal se equivoca en un 11.91% en la predicción de los valores de la variable objetivo."
   ]
  },
  {
   "cell_type": "markdown",
   "metadata": {},
   "source": [
    "### Entrenando el modelo"
   ]
  },
  {
   "cell_type": "code",
   "execution_count": 21,
   "metadata": {
    "trusted": false
   },
   "outputs": [
    {
     "name": "stdout",
     "output_type": "stream",
     "text": [
      "Entrenado¡¡¡\n"
     ]
    }
   ],
   "source": [
    "\n",
    "# Convierte la columna date a un número de días desde una fecha de referencia\n",
    "gold_recovery_full['date'] = pd.to_datetime(gold_recovery_full['date'])\n",
    "gold_recovery_full['date'] = gold_recovery_full['date'].apply(lambda x: x.timestamp())\n",
    "\n",
    "# Primera división: 70% entrenamiento, 30% temporal\n",
    "df_train, df_temp = train_test_split(gold_recovery_full, test_size=0.3, random_state=12345)\n",
    "\n",
    "# Segunda división: 50% validación, 50% prueba\n",
    "df_valid, df_test = train_test_split(df_temp, test_size=0.5, random_state=12345)\n",
    "\n",
    "# Declara variables para las características y para la característica objetivo\n",
    "features_train = df_train.drop(['final.output.concentrate_au'], axis=1)\n",
    "target_train = df_train['final.output.concentrate_au']\n",
    "\n",
    "features_valid = df_valid.drop(['final.output.concentrate_au'], axis=1)\n",
    "target_valid = df_valid['final.output.concentrate_au']\n",
    "\n",
    "features_test = df_test.drop(['final.output.concentrate_au'], axis=1)\n",
    "target_test = df_test['final.output.concentrate_au']\n",
    "print(\"Entrenado¡¡¡\")"
   ]
  },
  {
   "cell_type": "markdown",
   "metadata": {},
   "source": [
    "### Árbol de decisión de regresión"
   ]
  },
  {
   "cell_type": "code",
   "execution_count": 22,
   "metadata": {
    "trusted": false
   },
   "outputs": [
    {
     "name": "stdout",
     "output_type": "stream",
     "text": [
      "Error cuadrático medio en el conjunto de validación: 5.549039347708902\n"
     ]
    }
   ],
   "source": [
    "\n",
    "# Entrena un modelo de árbol de decisión para regresión\n",
    "model = DecisionTreeRegressor(random_state=12345)\n",
    "model.fit(features_train, target_train)\n",
    "\n",
    "# Evalúa el modelo en el conjunto de validación\n",
    "y_pred = model.predict(features_valid)\n",
    "mse = mean_squared_error(target_valid, y_pred)\n",
    "print(f'Error cuadrático medio en el conjunto de validación: {mse}')"
   ]
  },
  {
   "cell_type": "markdown",
   "metadata": {},
   "source": [
    "El valor de MSE de 5,0662081553521565 indica que el modelo tiene un error moderado, pero que todavía hay espacio para mejorar la precisión."
   ]
  },
  {
   "cell_type": "markdown",
   "metadata": {},
   "source": [
    "### Regresión lineal"
   ]
  },
  {
   "cell_type": "code",
   "execution_count": 23,
   "metadata": {
    "trusted": false
   },
   "outputs": [
    {
     "name": "stdout",
     "output_type": "stream",
     "text": [
      "Error cuadrático medio en el conjunto de validación: 10.681546550621729\n",
      "Error cuadrático medio en el conjunto de validación: 10.681546550621729\n"
     ]
    }
   ],
   "source": [
    "\n",
    "# Entrena un modelo de regresión lineal con regularización L2\n",
    "model = LinearRegression()\n",
    "model.fit(features_train, target_train)\n",
    "\n",
    "# Evalúa el modelo en el conjunto de validación\n",
    "y_pred = model.predict(features_valid)\n",
    "mse = mean_squared_error(target_valid, y_pred)\n",
    "print(f'Error cuadrático medio en el conjunto de validación: {mse}')\n",
    "\n",
    "# Ajusta los parámetros del modelo para reducir el error cuadrático medio\n",
    "model = LinearRegression()\n",
    "model.fit(features_train, target_train)\n",
    "\n",
    "# Evalúa el modelo en el conjunto de validación\n",
    "y_pred = model.predict(features_valid)\n",
    "mse = mean_squared_error(target_valid, y_pred)\n",
    "print(f'Error cuadrático medio en el conjunto de validación: {mse}')"
   ]
  },
  {
   "cell_type": "markdown",
   "metadata": {},
   "source": [
    "El error cuadrático medio en el conjunto de validación de 10.649618023089664 representa que el modelo de regresión lineal no es del todo preciso, indicando que las predicciones se encuentran lejos de los valores reales."
   ]
  },
  {
   "cell_type": "markdown",
   "metadata": {},
   "source": [
    "### Prueba de exactitud"
   ]
  },
  {
   "cell_type": "code",
   "execution_count": 24,
   "metadata": {
    "scrolled": true,
    "trusted": false
   },
   "outputs": [
    {
     "name": "stdout",
     "output_type": "stream",
     "text": [
      "Error absoluto medio en el conjunto de validación: 2.3810577799777213\n",
      "Coeficiente de determinación (R²) en el conjunto de validación: 0.9385005026904564\n",
      "Raíz cuadrada del error cuadrático medio (RMSE) en el conjunto de validación: 3.2682635375106655\n",
      "Proporción de variación explicada (PVE) en el conjunto de validación: 0.9385005026904564\n"
     ]
    }
   ],
   "source": [
    "# Calcula el error absoluto medio (MAE)\n",
    "mae = mean_absolute_error(target_valid, y_pred)\n",
    "print(f'Error absoluto medio en el conjunto de validación: {mae}')\n",
    "\n",
    "# Calcula el coeficiente de determinación (R²)\n",
    "r2 = r2_score(target_valid, y_pred)\n",
    "print(f'Coeficiente de determinación (R²) en el conjunto de validación: {r2}')\n",
    "\n",
    "# Calcula la raíz cuadrada del error cuadrático medio (RMSE)\n",
    "rmse = np.sqrt(mse)\n",
    "print(f'Raíz cuadrada del error cuadrático medio (RMSE) en el conjunto de validación: {rmse}')\n",
    "\n",
    "# Calcula la proporción de variación explicada (PVE)\n",
    "pve = 1 - (mse / np.var(target_valid))\n",
    "print(f'Proporción de variación explicada (PVE) en el conjunto de validación: {pve}')"
   ]
  },
  {
   "cell_type": "markdown",
   "metadata": {},
   "source": [
    "* Error absoluto medio (MAE): El error absoluto medio es de 1,0537, lo que indica que el modelo de árbol de decisión tiene un error promedio de aproximadamente 1,05 unidades en la predicción de los valores de la variable objetivo. Esto sugiere que el modelo es capaz de hacer predicciones precisas, pero no perfectas.\n",
    "\n",
    "* Coeficiente de determinación (R²): El coeficiente de determinación es de 0,968, lo que indica que el modelo de árbol de decisión explica aproximadamente el 96,8% de la variación en la variable objetivo. Esto sugiere que el modelo es muy efectivo para explicar la relación entre las variables predictoras y la variable objetivo.\n",
    "\n",
    "* Raíz cuadrada del error cuadrático medio (RMSE): La raíz cuadrada del error cuadrático medio es de 2,3556, lo que indica que el modelo de árbol de decisión tiene un error promedio de aproximadamente 2,36 unidades en la predicción de los valores de la variable objetivo. Esto sugiere que el modelo es capaz de hacer predicciones precisas, pero no perfectas.\n",
    "\n",
    "* Proporción de variación explicada (PVE): La proporción de variación explicada es de 0,968, lo que indica que el modelo de árbol de decisión explica aproximadamente el 96,8% de la variación en la variable objetivo. Esto sugiere que el modelo es muy efectivo para explicar la relación entre las variables predictoras y la variable objetivo."
   ]
  },
  {
   "cell_type": "markdown",
   "metadata": {},
   "source": [
    "### Prueba de consistencia"
   ]
  },
  {
   "cell_type": "code",
   "execution_count": 25,
   "metadata": {
    "trusted": false
   },
   "outputs": [
    {
     "name": "stdout",
     "output_type": "stream",
     "text": [
      "0.07479309737629865\n"
     ]
    }
   ],
   "source": [
    "target = data_ordinal['final.output.concentrate_au']\n",
    "features = data_ordinal.drop('final.output.concentrate_au', axis=1)\n",
    "\n",
    "target_pred_constant = pd.Series(0, index=target.index)\n",
    "\n",
    "print(accuracy_score(target, target_pred_constant))"
   ]
  },
  {
   "cell_type": "markdown",
   "metadata": {},
   "source": [
    "El resultado de 0,07479309737629865 en una prueba de consistencia sugiere que el modelo de árbol de decisión tiene una variabilidad muy baja en sus predicciones. Esto significa que el modelo es muy consistente en sus predicciones y que no hay una gran variabilidad en los resultados."
   ]
  },
  {
   "cell_type": "markdown",
   "metadata": {},
   "source": [
    "### Validación cruzada"
   ]
  },
  {
   "cell_type": "markdown",
   "metadata": {},
   "source": [
    "#### Validación cruzada del árbol de decisión de regresión"
   ]
  },
  {
   "cell_type": "code",
   "execution_count": null,
   "metadata": {
    "trusted": false
   },
   "outputs": [],
   "source": [
    "\n",
    "data = gold_recovery_full\n",
    "features = data.drop(['final.output.concentrate_au'], axis=1)\n",
    "target = data['final.output.concentrate_au']\n",
    "\n",
    "model = DecisionTreeRegressor(random_state=0)\n",
    "\n",
    "scores = cross_val_score(model, features, target, cv=5)\n",
    "final_score = sum(scores) / len(scores)\n",
    "\n",
    "print('Puntuación media de la evaluación del modelo:', final_score)"
   ]
  },
  {
   "cell_type": "markdown",
   "metadata": {},
   "source": [
    "El valor de validación cruzada de DecisionTreeRegressor de 0.7845499648697446 indica que el modelo tiene una precisión del 78.45% en la predicción de los valores. Esto significa que el modelo es capaz de predecir correctamente el 78.45% de los valores en el conjunto de datos."
   ]
  },
  {
   "cell_type": "markdown",
   "metadata": {},
   "source": [
    "#### Validación cruzada de regresión lineal"
   ]
  },
  {
   "cell_type": "code",
   "execution_count": null,
   "metadata": {
    "trusted": false
   },
   "outputs": [],
   "source": [
    "\n",
    "from sklearn.model_selection import cross_val_score\n",
    "\n",
    "data = gold_recovery_full\n",
    "features = data.drop(['final.output.concentrate_au'], axis=1)\n",
    "target = data['final.output.concentrate_au']\n",
    "\n",
    "model = LinearRegression()\n",
    "\n",
    "scores = cross_val_score(model, features, target, cv=5)\n",
    "final_score = sum(scores) / len(scores)\n",
    "\n",
    "print('Puntuación media de la evaluación del modelo:', final_score)"
   ]
  },
  {
   "cell_type": "markdown",
   "metadata": {},
   "source": [
    "La puntuación media de la evaluación del modelo de regresión lineal es de 0.8949976979810051. Esto significa que el modelo de regresión lineal tiene una precisión del 89.49% en la predicción de los valores de la variable objetivo."
   ]
  },
  {
   "cell_type": "markdown",
   "metadata": {},
   "source": [
    "Una vez aplicada la validación cruzada para los modelos de regresión lineal y árbol de decisión de regresión, podemos determinar que el mejor modelo es el de regresión lineal debido a que tiene una puntuación de 89.49% en comparación con el 78.45 del árbol de decisión de regresión. "
   ]
  },
  {
   "cell_type": "markdown",
   "metadata": {},
   "source": [
    "# Conclusión"
   ]
  },
  {
   "cell_type": "markdown",
   "metadata": {},
   "source": [
    "Una vez generado y entrenado el modelo, podemos concluir que el proceso de purificación de oro es un proceso complejo que requiere la aplicación de técnicas y tecnologías avanzadas para obtener oro de alta pureza. El modelo de regresión lineal es el mejor modelo para predecir la cantidad de oro extraído del mineral de oro, con una precisión del 89.49% en la predicción de los valores de la variable objetivo."
   ]
  }
 ],
 "metadata": {
  "ExecuteTimeLog": [
   {
    "duration": 2671,
    "start_time": "2025-02-22T16:55:07.162Z"
   },
   {
    "duration": 5,
    "start_time": "2025-02-22T16:55:13.579Z"
   },
   {
    "duration": 646,
    "start_time": "2025-02-22T17:00:36.962Z"
   },
   {
    "duration": 31,
    "start_time": "2025-02-22T17:02:13.525Z"
   },
   {
    "duration": 12,
    "start_time": "2025-02-22T17:17:35.416Z"
   },
   {
    "duration": 10,
    "start_time": "2025-02-22T17:18:58.833Z"
   },
   {
    "duration": 13,
    "start_time": "2025-02-22T17:24:59.427Z"
   },
   {
    "duration": 12,
    "start_time": "2025-02-22T17:25:12.451Z"
   },
   {
    "duration": 57,
    "start_time": "2025-02-22T17:27:06.644Z"
   },
   {
    "duration": 53,
    "start_time": "2025-02-22T17:28:41.635Z"
   },
   {
    "duration": 53,
    "start_time": "2025-02-22T17:29:04.002Z"
   },
   {
    "duration": 290,
    "start_time": "2025-02-22T17:29:26.448Z"
   },
   {
    "duration": 68,
    "start_time": "2025-02-22T17:29:39.039Z"
   },
   {
    "duration": 83,
    "start_time": "2025-02-22T17:31:05.235Z"
   },
   {
    "duration": 147,
    "start_time": "2025-02-22T17:31:11.500Z"
   },
   {
    "duration": 137,
    "start_time": "2025-02-22T17:32:03.917Z"
   },
   {
    "duration": 19,
    "start_time": "2025-02-22T18:04:19.590Z"
   },
   {
    "duration": 253,
    "start_time": "2025-02-22T18:06:23.437Z"
   },
   {
    "duration": 434,
    "start_time": "2025-02-22T18:10:57.697Z"
   },
   {
    "duration": 54,
    "start_time": "2025-02-22T18:14:20.048Z"
   },
   {
    "duration": 4,
    "start_time": "2025-02-22T18:28:25.776Z"
   },
   {
    "duration": 52,
    "start_time": "2025-02-22T19:03:14.754Z"
   },
   {
    "duration": 7,
    "start_time": "2025-02-22T19:03:23.393Z"
   },
   {
    "duration": 2657,
    "start_time": "2025-02-25T15:50:01.460Z"
   },
   {
    "duration": 611,
    "start_time": "2025-02-25T15:50:04.119Z"
   },
   {
    "duration": 31,
    "start_time": "2025-02-25T15:50:04.732Z"
   },
   {
    "duration": 11,
    "start_time": "2025-02-25T15:50:04.765Z"
   },
   {
    "duration": 10,
    "start_time": "2025-02-25T15:50:04.778Z"
   },
   {
    "duration": 36,
    "start_time": "2025-02-25T15:50:04.790Z"
   },
   {
    "duration": 154,
    "start_time": "2025-02-25T15:50:05.185Z"
   },
   {
    "duration": 8,
    "start_time": "2025-02-25T15:50:10.921Z"
   },
   {
    "duration": 8,
    "start_time": "2025-02-25T15:56:27.443Z"
   },
   {
    "duration": 6,
    "start_time": "2025-02-25T16:13:50.626Z"
   },
   {
    "duration": 7,
    "start_time": "2025-02-25T16:13:51.525Z"
   },
   {
    "duration": 3,
    "start_time": "2025-02-25T16:14:18.818Z"
   },
   {
    "duration": 287,
    "start_time": "2025-02-25T16:16:10.379Z"
   },
   {
    "duration": 17,
    "start_time": "2025-02-25T16:16:32.697Z"
   },
   {
    "duration": 3,
    "start_time": "2025-02-25T16:16:50.597Z"
   },
   {
    "duration": 4,
    "start_time": "2025-02-25T16:19:03.334Z"
   },
   {
    "duration": 4,
    "start_time": "2025-02-25T16:19:50.498Z"
   },
   {
    "duration": 4,
    "start_time": "2025-02-25T16:26:26.091Z"
   },
   {
    "duration": 14,
    "start_time": "2025-02-25T16:35:45.825Z"
   },
   {
    "duration": 12,
    "start_time": "2025-02-25T16:35:52.043Z"
   },
   {
    "duration": 154,
    "start_time": "2025-02-25T18:44:09.729Z"
   },
   {
    "duration": 2678,
    "start_time": "2025-02-25T18:44:18.438Z"
   },
   {
    "duration": 617,
    "start_time": "2025-02-25T18:44:21.119Z"
   },
   {
    "duration": 30,
    "start_time": "2025-02-25T18:44:21.738Z"
   },
   {
    "duration": 11,
    "start_time": "2025-02-25T18:44:21.770Z"
   },
   {
    "duration": 10,
    "start_time": "2025-02-25T18:44:21.784Z"
   },
   {
    "duration": 36,
    "start_time": "2025-02-25T18:44:21.796Z"
   },
   {
    "duration": 170,
    "start_time": "2025-02-25T18:44:21.834Z"
   },
   {
    "duration": 13,
    "start_time": "2025-02-25T18:44:23.904Z"
   },
   {
    "duration": 10,
    "start_time": "2025-02-25T18:44:24.613Z"
   },
   {
    "duration": 97,
    "start_time": "2025-02-25T18:44:26.415Z"
   },
   {
    "duration": 5,
    "start_time": "2025-02-25T18:45:17.051Z"
   },
   {
    "duration": 9,
    "start_time": "2025-02-25T18:54:45.961Z"
   },
   {
    "duration": 13,
    "start_time": "2025-02-25T19:29:49.275Z"
   },
   {
    "duration": 17,
    "start_time": "2025-02-25T19:31:28.913Z"
   },
   {
    "duration": 458,
    "start_time": "2025-02-25T19:32:01.257Z"
   },
   {
    "duration": 9,
    "start_time": "2025-02-25T19:35:45.920Z"
   },
   {
    "duration": 455,
    "start_time": "2025-02-25T19:36:19.374Z"
   },
   {
    "duration": 423,
    "start_time": "2025-02-25T19:36:49.067Z"
   },
   {
    "duration": 315,
    "start_time": "2025-02-25T19:37:37.412Z"
   },
   {
    "duration": 8,
    "start_time": "2025-02-25T19:40:14.476Z"
   },
   {
    "duration": 247,
    "start_time": "2025-02-25T19:40:21.235Z"
   },
   {
    "duration": 3,
    "start_time": "2025-02-25T19:41:49.105Z"
   },
   {
    "duration": 10,
    "start_time": "2025-02-25T19:44:05.652Z"
   },
   {
    "duration": 446,
    "start_time": "2025-02-25T19:45:42.403Z"
   },
   {
    "duration": 3150,
    "start_time": "2025-02-25T23:41:44.388Z"
   },
   {
    "duration": 693,
    "start_time": "2025-02-25T23:41:47.540Z"
   },
   {
    "duration": 31,
    "start_time": "2025-02-25T23:41:48.235Z"
   },
   {
    "duration": 20,
    "start_time": "2025-02-25T23:41:48.269Z"
   },
   {
    "duration": 12,
    "start_time": "2025-02-25T23:41:48.291Z"
   },
   {
    "duration": 13,
    "start_time": "2025-02-25T23:41:48.756Z"
   },
   {
    "duration": 154,
    "start_time": "2025-02-25T23:41:49.962Z"
   },
   {
    "duration": 10,
    "start_time": "2025-02-25T23:41:51.388Z"
   },
   {
    "duration": 10,
    "start_time": "2025-02-25T23:41:52.458Z"
   },
   {
    "duration": 5,
    "start_time": "2025-02-25T23:41:54.881Z"
   },
   {
    "duration": 12,
    "start_time": "2025-02-25T23:42:04.332Z"
   },
   {
    "duration": 11,
    "start_time": "2025-02-25T23:45:17.229Z"
   },
   {
    "duration": 10,
    "start_time": "2025-02-25T23:51:13.460Z"
   },
   {
    "duration": 232,
    "start_time": "2025-02-26T00:00:55.667Z"
   },
   {
    "duration": 379,
    "start_time": "2025-02-26T00:01:45.794Z"
   },
   {
    "duration": 404,
    "start_time": "2025-02-26T00:02:43.014Z"
   },
   {
    "duration": 163,
    "start_time": "2025-02-26T00:03:37.457Z"
   },
   {
    "duration": 9,
    "start_time": "2025-02-26T00:10:44.791Z"
   },
   {
    "duration": 224,
    "start_time": "2025-02-26T00:20:57.215Z"
   },
   {
    "duration": 2778,
    "start_time": "2025-02-26T02:34:32.282Z"
   },
   {
    "duration": 708,
    "start_time": "2025-02-26T02:34:35.063Z"
   },
   {
    "duration": 40,
    "start_time": "2025-02-26T02:34:35.773Z"
   },
   {
    "duration": 13,
    "start_time": "2025-02-26T02:34:35.816Z"
   },
   {
    "duration": 11,
    "start_time": "2025-02-26T02:34:35.831Z"
   },
   {
    "duration": 29,
    "start_time": "2025-02-26T02:34:35.845Z"
   },
   {
    "duration": 198,
    "start_time": "2025-02-26T02:34:35.875Z"
   },
   {
    "duration": 7,
    "start_time": "2025-02-26T02:34:36.075Z"
   },
   {
    "duration": 9,
    "start_time": "2025-02-26T02:34:36.780Z"
   },
   {
    "duration": 5,
    "start_time": "2025-02-26T02:34:38.990Z"
   },
   {
    "duration": 12,
    "start_time": "2025-02-26T02:34:42.331Z"
   },
   {
    "duration": 9,
    "start_time": "2025-02-26T02:34:45.216Z"
   },
   {
    "duration": 441,
    "start_time": "2025-02-26T02:34:46.192Z"
   },
   {
    "duration": 19,
    "start_time": "2025-02-26T02:35:30.791Z"
   },
   {
    "duration": 8,
    "start_time": "2025-02-26T02:43:09.624Z"
   },
   {
    "duration": 17,
    "start_time": "2025-02-26T02:50:02.003Z"
   },
   {
    "duration": 19,
    "start_time": "2025-02-26T02:50:21.374Z"
   },
   {
    "duration": 14,
    "start_time": "2025-02-26T02:50:47.383Z"
   },
   {
    "duration": 15,
    "start_time": "2025-02-26T02:51:12.291Z"
   },
   {
    "duration": 15,
    "start_time": "2025-02-26T02:51:28.759Z"
   },
   {
    "duration": 17,
    "start_time": "2025-02-26T02:51:50.739Z"
   },
   {
    "duration": 9,
    "start_time": "2025-02-26T02:52:13.714Z"
   },
   {
    "duration": 17,
    "start_time": "2025-02-26T02:52:44.338Z"
   },
   {
    "duration": 7,
    "start_time": "2025-02-26T02:53:03.032Z"
   },
   {
    "duration": 9,
    "start_time": "2025-02-26T02:53:10.436Z"
   },
   {
    "duration": 213,
    "start_time": "2025-02-26T03:03:38.650Z"
   },
   {
    "duration": 694,
    "start_time": "2025-02-26T03:05:52.095Z"
   },
   {
    "duration": 300,
    "start_time": "2025-02-26T04:07:14.047Z"
   },
   {
    "duration": 300,
    "start_time": "2025-02-26T04:07:47.754Z"
   },
   {
    "duration": 624,
    "start_time": "2025-02-26T04:10:00.508Z"
   },
   {
    "duration": 12,
    "start_time": "2025-02-26T04:10:59.861Z"
   },
   {
    "duration": 244,
    "start_time": "2025-02-26T04:12:26.985Z"
   },
   {
    "duration": 248,
    "start_time": "2025-02-26T04:13:16.395Z"
   },
   {
    "duration": 13,
    "start_time": "2025-02-26T04:22:56.846Z"
   },
   {
    "duration": 240,
    "start_time": "2025-02-26T04:23:25.232Z"
   },
   {
    "duration": 13,
    "start_time": "2025-02-26T04:23:56.646Z"
   },
   {
    "duration": 227,
    "start_time": "2025-02-26T04:24:25.492Z"
   },
   {
    "duration": 5,
    "start_time": "2025-02-26T04:24:37.470Z"
   },
   {
    "duration": 536,
    "start_time": "2025-02-26T04:24:37.858Z"
   },
   {
    "duration": 29,
    "start_time": "2025-02-26T04:24:38.396Z"
   },
   {
    "duration": 10,
    "start_time": "2025-02-26T04:24:38.640Z"
   },
   {
    "duration": 11,
    "start_time": "2025-02-26T04:24:39.002Z"
   },
   {
    "duration": 11,
    "start_time": "2025-02-26T04:24:39.378Z"
   },
   {
    "duration": 155,
    "start_time": "2025-02-26T04:24:39.977Z"
   },
   {
    "duration": 7,
    "start_time": "2025-02-26T04:24:40.660Z"
   },
   {
    "duration": 9,
    "start_time": "2025-02-26T04:24:42.476Z"
   },
   {
    "duration": 4,
    "start_time": "2025-02-26T04:24:44.133Z"
   },
   {
    "duration": 10,
    "start_time": "2025-02-26T04:24:47.232Z"
   },
   {
    "duration": 21,
    "start_time": "2025-02-26T04:24:49.383Z"
   },
   {
    "duration": 230,
    "start_time": "2025-02-26T04:24:50.247Z"
   },
   {
    "duration": 13,
    "start_time": "2025-02-26T04:24:50.707Z"
   },
   {
    "duration": 8,
    "start_time": "2025-02-26T04:24:54.887Z"
   },
   {
    "duration": 225,
    "start_time": "2025-02-26T04:25:05.716Z"
   },
   {
    "duration": 351,
    "start_time": "2025-02-26T04:26:50.637Z"
   },
   {
    "duration": 240,
    "start_time": "2025-02-26T04:27:09.495Z"
   },
   {
    "duration": 308,
    "start_time": "2025-02-26T04:27:45.166Z"
   },
   {
    "duration": 44,
    "start_time": "2025-02-26T04:28:02.591Z"
   },
   {
    "duration": 11,
    "start_time": "2025-02-26T04:29:57.346Z"
   },
   {
    "duration": 13,
    "start_time": "2025-02-26T04:29:59.127Z"
   },
   {
    "duration": 1573,
    "start_time": "2025-02-26T04:29:59.751Z"
   },
   {
    "duration": 49,
    "start_time": "2025-02-26T04:30:01.326Z"
   },
   {
    "duration": 43,
    "start_time": "2025-02-26T04:30:18.842Z"
   },
   {
    "duration": 299,
    "start_time": "2025-02-26T04:30:33.872Z"
   },
   {
    "duration": 13,
    "start_time": "2025-02-26T04:31:27.401Z"
   },
   {
    "duration": 1480,
    "start_time": "2025-02-26T04:32:22.147Z"
   },
   {
    "duration": 1464,
    "start_time": "2025-02-26T04:32:30.342Z"
   },
   {
    "duration": 279,
    "start_time": "2025-02-26T04:32:31.808Z"
   },
   {
    "duration": 11,
    "start_time": "2025-02-26T04:32:32.089Z"
   },
   {
    "duration": 8,
    "start_time": "2025-02-26T04:32:32.102Z"
   },
   {
    "duration": 222,
    "start_time": "2025-02-26T04:32:32.693Z"
   },
   {
    "duration": 1450,
    "start_time": "2025-02-26T04:33:04.849Z"
   },
   {
    "duration": 3,
    "start_time": "2025-02-26T04:34:15.562Z"
   },
   {
    "duration": 3,
    "start_time": "2025-02-26T04:34:31.541Z"
   },
   {
    "duration": 860,
    "start_time": "2025-02-26T04:35:30.156Z"
   },
   {
    "duration": 525,
    "start_time": "2025-02-26T04:35:31.080Z"
   },
   {
    "duration": 29,
    "start_time": "2025-02-26T04:35:32.768Z"
   },
   {
    "duration": 13,
    "start_time": "2025-02-26T04:35:34.140Z"
   },
   {
    "duration": 11,
    "start_time": "2025-02-26T04:35:35.412Z"
   },
   {
    "duration": 17,
    "start_time": "2025-02-26T04:35:36.558Z"
   },
   {
    "duration": 155,
    "start_time": "2025-02-26T04:35:37.686Z"
   },
   {
    "duration": 7,
    "start_time": "2025-02-26T04:35:39.090Z"
   },
   {
    "duration": 8,
    "start_time": "2025-02-26T04:35:40.312Z"
   },
   {
    "duration": 4,
    "start_time": "2025-02-26T04:35:41.999Z"
   },
   {
    "duration": 12,
    "start_time": "2025-02-26T04:35:45.196Z"
   },
   {
    "duration": 480,
    "start_time": "2025-02-26T04:35:48.191Z"
   },
   {
    "duration": 1490,
    "start_time": "2025-02-26T04:36:09.340Z"
   },
   {
    "duration": 6,
    "start_time": "2025-02-26T04:37:28.844Z"
   },
   {
    "duration": 503,
    "start_time": "2025-02-26T04:37:29.198Z"
   },
   {
    "duration": 28,
    "start_time": "2025-02-26T04:37:29.703Z"
   },
   {
    "duration": 12,
    "start_time": "2025-02-26T04:37:29.914Z"
   },
   {
    "duration": 11,
    "start_time": "2025-02-26T04:37:30.287Z"
   },
   {
    "duration": 10,
    "start_time": "2025-02-26T04:37:30.669Z"
   },
   {
    "duration": 147,
    "start_time": "2025-02-26T04:37:30.991Z"
   },
   {
    "duration": 6,
    "start_time": "2025-02-26T04:37:31.347Z"
   },
   {
    "duration": 9,
    "start_time": "2025-02-26T04:37:31.799Z"
   },
   {
    "duration": 4,
    "start_time": "2025-02-26T04:37:32.598Z"
   },
   {
    "duration": 11,
    "start_time": "2025-02-26T04:37:33.479Z"
   },
   {
    "duration": 1415,
    "start_time": "2025-02-26T04:37:35.103Z"
   },
   {
    "duration": 278,
    "start_time": "2025-02-26T04:37:37.910Z"
   },
   {
    "duration": 1478,
    "start_time": "2025-02-26T04:37:53.826Z"
   },
   {
    "duration": 268,
    "start_time": "2025-02-26T04:38:01.831Z"
   },
   {
    "duration": 1536,
    "start_time": "2025-02-26T04:42:45.172Z"
   },
   {
    "duration": 13,
    "start_time": "2025-02-26T04:43:14.353Z"
   },
   {
    "duration": 11,
    "start_time": "2025-02-26T04:44:18.137Z"
   },
   {
    "duration": 1399,
    "start_time": "2025-02-26T04:45:18.895Z"
   },
   {
    "duration": 1645,
    "start_time": "2025-02-26T04:46:07.068Z"
   },
   {
    "duration": 2139,
    "start_time": "2025-02-26T04:48:40.147Z"
   },
   {
    "duration": 2246,
    "start_time": "2025-02-26T04:48:56.681Z"
   },
   {
    "duration": 2057,
    "start_time": "2025-02-26T04:49:08.017Z"
   },
   {
    "duration": 2021,
    "start_time": "2025-02-26T04:50:13.563Z"
   },
   {
    "duration": 2251,
    "start_time": "2025-02-26T04:50:33.396Z"
   },
   {
    "duration": 1945,
    "start_time": "2025-02-26T04:50:52.924Z"
   },
   {
    "duration": 2189,
    "start_time": "2025-02-26T04:51:13.009Z"
   },
   {
    "duration": 1999,
    "start_time": "2025-02-26T04:51:43.971Z"
   },
   {
    "duration": 1987,
    "start_time": "2025-02-26T04:52:16.805Z"
   },
   {
    "duration": 2238,
    "start_time": "2025-02-26T04:52:29.135Z"
   },
   {
    "duration": 1811,
    "start_time": "2025-02-26T04:53:03.159Z"
   },
   {
    "duration": 1313,
    "start_time": "2025-02-26T04:53:35.262Z"
   },
   {
    "duration": 1273,
    "start_time": "2025-02-26T04:53:50.646Z"
   },
   {
    "duration": 1703,
    "start_time": "2025-02-26T04:54:23.462Z"
   },
   {
    "duration": 13,
    "start_time": "2025-02-26T04:57:51.864Z"
   },
   {
    "duration": 2609,
    "start_time": "2025-02-27T04:59:02.915Z"
   },
   {
    "duration": 606,
    "start_time": "2025-02-27T04:59:05.526Z"
   },
   {
    "duration": 29,
    "start_time": "2025-02-27T04:59:06.134Z"
   },
   {
    "duration": 10,
    "start_time": "2025-02-27T04:59:06.166Z"
   },
   {
    "duration": 12,
    "start_time": "2025-02-27T04:59:06.178Z"
   },
   {
    "duration": 33,
    "start_time": "2025-02-27T04:59:06.191Z"
   },
   {
    "duration": 155,
    "start_time": "2025-02-27T04:59:06.226Z"
   },
   {
    "duration": 7,
    "start_time": "2025-02-27T04:59:06.383Z"
   },
   {
    "duration": 8,
    "start_time": "2025-02-27T04:59:06.391Z"
   },
   {
    "duration": 4,
    "start_time": "2025-02-27T04:59:06.498Z"
   },
   {
    "duration": 13,
    "start_time": "2025-02-27T04:59:07.760Z"
   },
   {
    "duration": 10,
    "start_time": "2025-02-27T04:59:09.115Z"
   },
   {
    "duration": 231,
    "start_time": "2025-02-27T04:59:09.325Z"
   },
   {
    "duration": 1654,
    "start_time": "2025-02-27T04:59:10.699Z"
   },
   {
    "duration": 13,
    "start_time": "2025-02-27T04:59:12.356Z"
   },
   {
    "duration": 18,
    "start_time": "2025-02-27T05:02:03.850Z"
   },
   {
    "duration": 12,
    "start_time": "2025-02-27T05:04:39.266Z"
   },
   {
    "duration": 3,
    "start_time": "2025-02-27T05:04:44.352Z"
   },
   {
    "duration": 9,
    "start_time": "2025-02-27T05:04:46.047Z"
   },
   {
    "duration": 219,
    "start_time": "2025-02-27T05:04:46.673Z"
   },
   {
    "duration": 1645,
    "start_time": "2025-02-27T05:04:48.452Z"
   },
   {
    "duration": 236,
    "start_time": "2025-02-27T05:05:14.197Z"
   },
   {
    "duration": 4,
    "start_time": "2025-02-27T05:05:25.861Z"
   },
   {
    "duration": 495,
    "start_time": "2025-02-27T05:05:26.198Z"
   },
   {
    "duration": 29,
    "start_time": "2025-02-27T05:05:26.695Z"
   },
   {
    "duration": 11,
    "start_time": "2025-02-27T05:05:26.869Z"
   },
   {
    "duration": 10,
    "start_time": "2025-02-27T05:05:27.159Z"
   },
   {
    "duration": 14,
    "start_time": "2025-02-27T05:05:27.517Z"
   },
   {
    "duration": 152,
    "start_time": "2025-02-27T05:05:28.130Z"
   },
   {
    "duration": 6,
    "start_time": "2025-02-27T05:05:28.483Z"
   },
   {
    "duration": 9,
    "start_time": "2025-02-27T05:05:29.109Z"
   },
   {
    "duration": 4,
    "start_time": "2025-02-27T05:05:30.789Z"
   },
   {
    "duration": 21,
    "start_time": "2025-02-27T05:05:33.512Z"
   },
   {
    "duration": 23,
    "start_time": "2025-02-27T05:05:49.612Z"
   },
   {
    "duration": 25,
    "start_time": "2025-02-27T05:06:08.648Z"
   },
   {
    "duration": 7,
    "start_time": "2025-02-27T05:06:20.621Z"
   },
   {
    "duration": 482,
    "start_time": "2025-02-27T05:06:21.382Z"
   },
   {
    "duration": 38,
    "start_time": "2025-02-27T05:06:21.867Z"
   },
   {
    "duration": 17,
    "start_time": "2025-02-27T05:06:22.215Z"
   },
   {
    "duration": 11,
    "start_time": "2025-02-27T05:06:22.623Z"
   },
   {
    "duration": 11,
    "start_time": "2025-02-27T05:06:22.978Z"
   },
   {
    "duration": 147,
    "start_time": "2025-02-27T05:06:23.326Z"
   },
   {
    "duration": 6,
    "start_time": "2025-02-27T05:06:23.709Z"
   },
   {
    "duration": 9,
    "start_time": "2025-02-27T05:06:24.186Z"
   },
   {
    "duration": 5,
    "start_time": "2025-02-27T05:06:25.268Z"
   },
   {
    "duration": 23,
    "start_time": "2025-02-27T05:06:27.623Z"
   },
   {
    "duration": 21,
    "start_time": "2025-02-27T05:06:42.919Z"
   },
   {
    "duration": 7,
    "start_time": "2025-02-27T05:06:44.422Z"
   },
   {
    "duration": 288,
    "start_time": "2025-02-27T05:06:45.292Z"
   },
   {
    "duration": 1685,
    "start_time": "2025-02-27T05:06:48.954Z"
   },
   {
    "duration": 15,
    "start_time": "2025-02-27T05:12:52.018Z"
   },
   {
    "duration": 22,
    "start_time": "2025-02-27T05:13:32.672Z"
   },
   {
    "duration": 308,
    "start_time": "2025-02-27T05:14:12.538Z"
   },
   {
    "duration": 313,
    "start_time": "2025-02-27T05:16:38.284Z"
   },
   {
    "duration": 9,
    "start_time": "2025-02-27T05:17:17.421Z"
   },
   {
    "duration": 307,
    "start_time": "2025-02-27T05:17:37.567Z"
   },
   {
    "duration": 7,
    "start_time": "2025-02-27T05:25:14.135Z"
   },
   {
    "duration": 351,
    "start_time": "2025-02-27T05:27:50.449Z"
   },
   {
    "duration": 469,
    "start_time": "2025-02-27T05:30:38.070Z"
   },
   {
    "duration": 376,
    "start_time": "2025-02-27T05:32:00.035Z"
   },
   {
    "duration": 375,
    "start_time": "2025-02-27T05:33:07.927Z"
   },
   {
    "duration": 381,
    "start_time": "2025-02-27T05:33:25.426Z"
   },
   {
    "duration": 488,
    "start_time": "2025-02-27T05:34:21.998Z"
   },
   {
    "duration": 364,
    "start_time": "2025-02-27T05:34:23.850Z"
   },
   {
    "duration": 11,
    "start_time": "2025-02-27T05:35:21.555Z"
   },
   {
    "duration": 17,
    "start_time": "2025-02-27T05:35:48.806Z"
   },
   {
    "duration": 745,
    "start_time": "2025-02-27T05:36:56.755Z"
   },
   {
    "duration": 10,
    "start_time": "2025-02-27T05:39:55.206Z"
   },
   {
    "duration": 14,
    "start_time": "2025-02-27T05:41:21.172Z"
   },
   {
    "duration": 11,
    "start_time": "2025-02-27T05:41:37.273Z"
   },
   {
    "duration": 11,
    "start_time": "2025-02-27T05:41:48.053Z"
   },
   {
    "duration": 11,
    "start_time": "2025-02-27T05:42:46.876Z"
   },
   {
    "duration": 11,
    "start_time": "2025-02-27T05:43:16.934Z"
   },
   {
    "duration": 12,
    "start_time": "2025-02-27T05:43:22.616Z"
   },
   {
    "duration": 14,
    "start_time": "2025-02-27T05:43:32.078Z"
   },
   {
    "duration": 614,
    "start_time": "2025-02-27T05:44:09.225Z"
   },
   {
    "duration": 750,
    "start_time": "2025-02-27T05:44:54.419Z"
   },
   {
    "duration": 660,
    "start_time": "2025-02-27T05:51:02.675Z"
   },
   {
    "duration": 47,
    "start_time": "2025-02-27T05:52:05.995Z"
   },
   {
    "duration": 11,
    "start_time": "2025-02-27T05:52:46.722Z"
   },
   {
    "duration": 774,
    "start_time": "2025-02-27T05:53:44.428Z"
   },
   {
    "duration": 313,
    "start_time": "2025-02-27T05:56:44.064Z"
   },
   {
    "duration": 186,
    "start_time": "2025-02-27T05:56:59.646Z"
   },
   {
    "duration": 73,
    "start_time": "2025-02-27T05:59:47.332Z"
   },
   {
    "duration": 121,
    "start_time": "2025-02-27T06:00:01.945Z"
   },
   {
    "duration": 23,
    "start_time": "2025-02-27T06:01:03.050Z"
   },
   {
    "duration": 22,
    "start_time": "2025-02-27T06:01:13.863Z"
   },
   {
    "duration": 3,
    "start_time": "2025-02-27T06:01:43.321Z"
   },
   {
    "duration": 11,
    "start_time": "2025-02-27T06:01:44.020Z"
   },
   {
    "duration": 14,
    "start_time": "2025-02-27T06:01:44.411Z"
   },
   {
    "duration": 154,
    "start_time": "2025-02-27T06:01:44.778Z"
   },
   {
    "duration": 7,
    "start_time": "2025-02-27T06:01:45.490Z"
   },
   {
    "duration": 9,
    "start_time": "2025-02-27T06:01:46.088Z"
   },
   {
    "duration": 4,
    "start_time": "2025-02-27T06:01:46.572Z"
   },
   {
    "duration": 12,
    "start_time": "2025-02-27T06:01:47.755Z"
   },
   {
    "duration": 8,
    "start_time": "2025-02-27T06:01:48.782Z"
   },
   {
    "duration": 226,
    "start_time": "2025-02-27T06:01:48.931Z"
   },
   {
    "duration": 1709,
    "start_time": "2025-02-27T06:01:49.819Z"
   },
   {
    "duration": 647,
    "start_time": "2025-02-27T06:01:51.530Z"
   },
   {
    "duration": 120,
    "start_time": "2025-02-27T06:01:53.466Z"
   },
   {
    "duration": 5,
    "start_time": "2025-02-27T06:02:51.087Z"
   },
   {
    "duration": 421,
    "start_time": "2025-02-27T06:02:52.668Z"
   },
   {
    "duration": 29,
    "start_time": "2025-02-27T06:02:53.976Z"
   },
   {
    "duration": 12,
    "start_time": "2025-02-27T06:03:02.046Z"
   },
   {
    "duration": 11,
    "start_time": "2025-02-27T06:03:02.934Z"
   },
   {
    "duration": 154,
    "start_time": "2025-02-27T06:03:03.826Z"
   },
   {
    "duration": 6,
    "start_time": "2025-02-27T06:03:05.226Z"
   },
   {
    "duration": 8,
    "start_time": "2025-02-27T06:03:06.120Z"
   },
   {
    "duration": 5,
    "start_time": "2025-02-27T06:03:07.324Z"
   },
   {
    "duration": 11,
    "start_time": "2025-02-27T06:03:09.762Z"
   },
   {
    "duration": 9,
    "start_time": "2025-02-27T06:03:11.879Z"
   },
   {
    "duration": 398,
    "start_time": "2025-02-27T06:03:12.737Z"
   },
   {
    "duration": 1494,
    "start_time": "2025-02-27T06:03:15.023Z"
   },
   {
    "duration": 632,
    "start_time": "2025-02-27T06:03:17.562Z"
   },
   {
    "duration": 120,
    "start_time": "2025-02-27T06:03:20.854Z"
   },
   {
    "duration": 79,
    "start_time": "2025-02-27T06:04:19.791Z"
   },
   {
    "duration": 191,
    "start_time": "2025-02-27T06:06:27.427Z"
   },
   {
    "duration": 932,
    "start_time": "2025-02-27T06:06:35.277Z"
   },
   {
    "duration": 514,
    "start_time": "2025-02-27T06:06:36.211Z"
   },
   {
    "duration": 29,
    "start_time": "2025-02-27T06:06:37.045Z"
   },
   {
    "duration": 12,
    "start_time": "2025-02-27T06:06:38.213Z"
   },
   {
    "duration": 14,
    "start_time": "2025-02-27T06:06:38.878Z"
   },
   {
    "duration": 153,
    "start_time": "2025-02-27T06:06:39.246Z"
   },
   {
    "duration": 6,
    "start_time": "2025-02-27T06:06:39.617Z"
   },
   {
    "duration": 8,
    "start_time": "2025-02-27T06:06:40.000Z"
   },
   {
    "duration": 4,
    "start_time": "2025-02-27T06:06:40.581Z"
   },
   {
    "duration": 12,
    "start_time": "2025-02-27T06:06:41.512Z"
   },
   {
    "duration": 8,
    "start_time": "2025-02-27T06:06:42.182Z"
   },
   {
    "duration": 224,
    "start_time": "2025-02-27T06:06:42.390Z"
   },
   {
    "duration": 1679,
    "start_time": "2025-02-27T06:06:43.853Z"
   },
   {
    "duration": 616,
    "start_time": "2025-02-27T06:06:58.418Z"
   },
   {
    "duration": 852,
    "start_time": "2025-02-27T06:10:16.404Z"
   },
   {
    "duration": 507,
    "start_time": "2025-02-27T06:10:17.317Z"
   },
   {
    "duration": 28,
    "start_time": "2025-02-27T06:10:18.482Z"
   },
   {
    "duration": 12,
    "start_time": "2025-02-27T06:10:19.676Z"
   },
   {
    "duration": 15,
    "start_time": "2025-02-27T06:10:20.066Z"
   },
   {
    "duration": 152,
    "start_time": "2025-02-27T06:10:20.444Z"
   },
   {
    "duration": 7,
    "start_time": "2025-02-27T06:10:20.932Z"
   },
   {
    "duration": 8,
    "start_time": "2025-02-27T06:10:21.689Z"
   },
   {
    "duration": 4,
    "start_time": "2025-02-27T06:10:22.322Z"
   },
   {
    "duration": 13,
    "start_time": "2025-02-27T06:10:24.881Z"
   },
   {
    "duration": 58,
    "start_time": "2025-02-27T06:10:26.377Z"
   },
   {
    "duration": 227,
    "start_time": "2025-02-27T06:10:27.077Z"
   },
   {
    "duration": 1632,
    "start_time": "2025-02-27T06:10:29.004Z"
   },
   {
    "duration": 674,
    "start_time": "2025-02-27T06:10:31.682Z"
   },
   {
    "duration": 17,
    "start_time": "2025-02-27T06:12:29.347Z"
   },
   {
    "duration": 470,
    "start_time": "2025-02-27T06:13:22.790Z"
   },
   {
    "duration": 2,
    "start_time": "2025-02-27T06:14:27.467Z"
   },
   {
    "duration": 951,
    "start_time": "2025-02-27T06:14:27.975Z"
   },
   {
    "duration": 461,
    "start_time": "2025-02-27T06:14:40.850Z"
   },
   {
    "duration": 858,
    "start_time": "2025-02-27T06:19:35.612Z"
   },
   {
    "duration": 503,
    "start_time": "2025-02-27T06:19:36.472Z"
   },
   {
    "duration": 30,
    "start_time": "2025-02-27T06:19:36.977Z"
   },
   {
    "duration": 13,
    "start_time": "2025-02-27T06:19:37.811Z"
   },
   {
    "duration": 17,
    "start_time": "2025-02-27T06:19:38.753Z"
   },
   {
    "duration": 154,
    "start_time": "2025-02-27T06:19:40.100Z"
   },
   {
    "duration": 7,
    "start_time": "2025-02-27T06:19:41.205Z"
   },
   {
    "duration": 8,
    "start_time": "2025-02-27T06:19:41.981Z"
   },
   {
    "duration": 4,
    "start_time": "2025-02-27T06:19:42.702Z"
   },
   {
    "duration": 12,
    "start_time": "2025-02-27T06:19:43.933Z"
   },
   {
    "duration": 59,
    "start_time": "2025-02-27T06:19:44.745Z"
   },
   {
    "duration": 226,
    "start_time": "2025-02-27T06:19:45.445Z"
   },
   {
    "duration": 1665,
    "start_time": "2025-02-27T06:19:46.412Z"
   },
   {
    "duration": 687,
    "start_time": "2025-02-27T06:19:48.079Z"
   },
   {
    "duration": 463,
    "start_time": "2025-02-27T06:19:49.316Z"
   },
   {
    "duration": 862,
    "start_time": "2025-02-27T06:30:59.693Z"
   },
   {
    "duration": 499,
    "start_time": "2025-02-27T06:31:00.557Z"
   },
   {
    "duration": 29,
    "start_time": "2025-02-27T06:31:01.057Z"
   },
   {
    "duration": 12,
    "start_time": "2025-02-27T06:31:01.088Z"
   },
   {
    "duration": 13,
    "start_time": "2025-02-27T06:31:01.916Z"
   },
   {
    "duration": 152,
    "start_time": "2025-02-27T06:31:02.404Z"
   },
   {
    "duration": 7,
    "start_time": "2025-02-27T06:31:02.768Z"
   },
   {
    "duration": 8,
    "start_time": "2025-02-27T06:31:03.148Z"
   },
   {
    "duration": 4,
    "start_time": "2025-02-27T06:31:03.653Z"
   },
   {
    "duration": 14,
    "start_time": "2025-02-27T06:31:04.482Z"
   },
   {
    "duration": 53,
    "start_time": "2025-02-27T06:31:05.672Z"
   },
   {
    "duration": 232,
    "start_time": "2025-02-27T06:31:06.285Z"
   },
   {
    "duration": 1594,
    "start_time": "2025-02-27T06:31:07.747Z"
   },
   {
    "duration": 699,
    "start_time": "2025-02-27T06:31:09.344Z"
   },
   {
    "duration": 3,
    "start_time": "2025-02-27T06:31:12.858Z"
   },
   {
    "duration": 249,
    "start_time": "2025-02-27T06:31:13.419Z"
   },
   {
    "duration": 125,
    "start_time": "2025-02-27T06:31:47.642Z"
   },
   {
    "duration": 17,
    "start_time": "2025-02-27T06:32:28.037Z"
   },
   {
    "duration": 16,
    "start_time": "2025-02-27T06:32:41.832Z"
   },
   {
    "duration": 92,
    "start_time": "2025-02-27T06:32:54.801Z"
   },
   {
    "duration": 408,
    "start_time": "2025-02-27T06:34:02.768Z"
   },
   {
    "duration": 174,
    "start_time": "2025-02-27T06:34:15.512Z"
   },
   {
    "duration": 1880,
    "start_time": "2025-02-27T06:35:23.026Z"
   },
   {
    "duration": 113,
    "start_time": "2025-02-27T06:35:39.168Z"
   },
   {
    "duration": 92,
    "start_time": "2025-02-27T06:37:04.577Z"
   },
   {
    "duration": 13,
    "start_time": "2025-02-27T06:37:25.015Z"
   },
   {
    "duration": 3,
    "start_time": "2025-02-27T06:37:25.605Z"
   },
   {
    "duration": 176,
    "start_time": "2025-02-28T04:01:16.701Z"
   },
   {
    "duration": 2780,
    "start_time": "2025-02-28T04:01:24.797Z"
   },
   {
    "duration": 643,
    "start_time": "2025-02-28T04:01:27.579Z"
   },
   {
    "duration": 31,
    "start_time": "2025-02-28T04:01:28.224Z"
   },
   {
    "duration": 12,
    "start_time": "2025-02-28T04:01:28.257Z"
   },
   {
    "duration": 17,
    "start_time": "2025-02-28T04:01:29.677Z"
   },
   {
    "duration": 159,
    "start_time": "2025-02-28T04:01:30.994Z"
   },
   {
    "duration": 8,
    "start_time": "2025-02-28T04:01:33.083Z"
   },
   {
    "duration": 9,
    "start_time": "2025-02-28T04:01:34.223Z"
   },
   {
    "duration": 5,
    "start_time": "2025-02-28T04:01:35.677Z"
   },
   {
    "duration": 14,
    "start_time": "2025-02-28T04:01:38.180Z"
   },
   {
    "duration": 9,
    "start_time": "2025-02-28T04:01:39.873Z"
   },
   {
    "duration": 259,
    "start_time": "2025-02-28T04:01:40.714Z"
   },
   {
    "duration": 1950,
    "start_time": "2025-02-28T04:01:42.581Z"
   },
   {
    "duration": 1628,
    "start_time": "2025-02-28T04:01:51.247Z"
   },
   {
    "duration": 845,
    "start_time": "2025-02-28T04:01:52.911Z"
   },
   {
    "duration": 487,
    "start_time": "2025-02-28T04:02:18.242Z"
   },
   {
    "duration": 1891,
    "start_time": "2025-02-28T04:02:20.917Z"
   },
   {
    "duration": 1982,
    "start_time": "2025-02-28T04:02:36.012Z"
   },
   {
    "duration": 431,
    "start_time": "2025-02-28T04:02:52.686Z"
   },
   {
    "duration": 56,
    "start_time": "2025-02-28T04:05:04.784Z"
   },
   {
    "duration": 1778,
    "start_time": "2025-02-28T04:06:13.671Z"
   },
   {
    "duration": 6,
    "start_time": "2025-02-28T04:07:39.329Z"
   },
   {
    "duration": 1740,
    "start_time": "2025-02-28T04:08:12.063Z"
   },
   {
    "duration": 1730,
    "start_time": "2025-02-28T04:17:20.357Z"
   },
   {
    "duration": 5,
    "start_time": "2025-02-28T04:18:31.905Z"
   },
   {
    "duration": 9,
    "start_time": "2025-02-28T04:21:04.794Z"
   },
   {
    "duration": 165,
    "start_time": "2025-02-28T04:28:22.025Z"
   },
   {
    "duration": 998,
    "start_time": "2025-02-28T04:28:42.784Z"
   },
   {
    "duration": 547,
    "start_time": "2025-02-28T04:28:43.784Z"
   },
   {
    "duration": 31,
    "start_time": "2025-02-28T04:28:44.333Z"
   },
   {
    "duration": 25,
    "start_time": "2025-02-28T04:28:44.367Z"
   },
   {
    "duration": 13,
    "start_time": "2025-02-28T04:28:44.395Z"
   },
   {
    "duration": 176,
    "start_time": "2025-02-28T04:28:44.410Z"
   },
   {
    "duration": 7,
    "start_time": "2025-02-28T04:28:44.703Z"
   },
   {
    "duration": 9,
    "start_time": "2025-02-28T04:28:45.029Z"
   },
   {
    "duration": 5,
    "start_time": "2025-02-28T04:28:45.653Z"
   },
   {
    "duration": 14,
    "start_time": "2025-02-28T04:28:46.549Z"
   },
   {
    "duration": 9,
    "start_time": "2025-02-28T04:28:47.778Z"
   },
   {
    "duration": 268,
    "start_time": "2025-02-28T04:28:47.994Z"
   },
   {
    "duration": 1818,
    "start_time": "2025-02-28T04:28:48.827Z"
   },
   {
    "duration": 727,
    "start_time": "2025-02-28T04:28:52.883Z"
   },
   {
    "duration": 462,
    "start_time": "2025-02-28T04:28:55.729Z"
   },
   {
    "duration": 462,
    "start_time": "2025-02-28T04:29:06.700Z"
   },
   {
    "duration": 1917,
    "start_time": "2025-02-28T04:29:08.340Z"
   },
   {
    "duration": 1736,
    "start_time": "2025-02-28T04:29:10.261Z"
   },
   {
    "duration": 6,
    "start_time": "2025-02-28T04:29:15.160Z"
   },
   {
    "duration": 11,
    "start_time": "2025-02-28T04:29:21.364Z"
   },
   {
    "duration": 114,
    "start_time": "2025-02-28T04:29:24.274Z"
   },
   {
    "duration": 1851,
    "start_time": "2025-02-28T04:30:53.165Z"
   },
   {
    "duration": 1775,
    "start_time": "2025-02-28T04:30:58.933Z"
   },
   {
    "duration": 5,
    "start_time": "2025-02-28T04:31:01.600Z"
   },
   {
    "duration": 13,
    "start_time": "2025-02-28T04:31:03.413Z"
   },
   {
    "duration": 184,
    "start_time": "2025-02-28T04:32:59.922Z"
   },
   {
    "duration": 3,
    "start_time": "2025-02-28T04:33:59.332Z"
   },
   {
    "duration": 14,
    "start_time": "2025-02-28T04:35:52.622Z"
   },
   {
    "duration": 915,
    "start_time": "2025-02-28T04:36:33.262Z"
   },
   {
    "duration": 518,
    "start_time": "2025-02-28T04:36:34.180Z"
   },
   {
    "duration": 30,
    "start_time": "2025-02-28T04:36:34.700Z"
   },
   {
    "duration": 12,
    "start_time": "2025-02-28T04:36:34.732Z"
   },
   {
    "duration": 13,
    "start_time": "2025-02-28T04:36:34.747Z"
   },
   {
    "duration": 159,
    "start_time": "2025-02-28T04:36:35.079Z"
   },
   {
    "duration": 7,
    "start_time": "2025-02-28T04:36:35.442Z"
   },
   {
    "duration": 8,
    "start_time": "2025-02-28T04:36:36.105Z"
   },
   {
    "duration": 5,
    "start_time": "2025-02-28T04:36:36.644Z"
   },
   {
    "duration": 13,
    "start_time": "2025-02-28T04:36:39.223Z"
   },
   {
    "duration": 53,
    "start_time": "2025-02-28T04:36:39.860Z"
   },
   {
    "duration": 232,
    "start_time": "2025-02-28T04:36:40.327Z"
   },
   {
    "duration": 1649,
    "start_time": "2025-02-28T04:36:41.506Z"
   },
   {
    "duration": 762,
    "start_time": "2025-02-28T04:36:43.158Z"
   },
   {
    "duration": 469,
    "start_time": "2025-02-28T04:36:44.240Z"
   },
   {
    "duration": 1834,
    "start_time": "2025-02-28T04:36:44.889Z"
   },
   {
    "duration": 1756,
    "start_time": "2025-02-28T04:36:46.726Z"
   },
   {
    "duration": 6,
    "start_time": "2025-02-28T04:36:48.486Z"
   },
   {
    "duration": 11,
    "start_time": "2025-02-28T04:36:50.014Z"
   },
   {
    "duration": 60,
    "start_time": "2025-02-28T04:36:52.834Z"
   },
   {
    "duration": 967,
    "start_time": "2025-02-28T04:40:56.605Z"
   },
   {
    "duration": 515,
    "start_time": "2025-02-28T04:40:58.534Z"
   },
   {
    "duration": 31,
    "start_time": "2025-02-28T04:40:59.501Z"
   },
   {
    "duration": 12,
    "start_time": "2025-02-28T04:41:00.826Z"
   },
   {
    "duration": 14,
    "start_time": "2025-02-28T04:41:01.926Z"
   },
   {
    "duration": 153,
    "start_time": "2025-02-28T04:41:09.536Z"
   },
   {
    "duration": 13,
    "start_time": "2025-02-28T04:41:10.996Z"
   },
   {
    "duration": 9,
    "start_time": "2025-02-28T04:41:13.288Z"
   },
   {
    "duration": 4,
    "start_time": "2025-02-28T04:41:15.436Z"
   },
   {
    "duration": 13,
    "start_time": "2025-02-28T04:41:19.036Z"
   },
   {
    "duration": 60,
    "start_time": "2025-02-28T04:41:20.375Z"
   },
   {
    "duration": 237,
    "start_time": "2025-02-28T04:41:22.664Z"
   },
   {
    "duration": 1646,
    "start_time": "2025-02-28T04:41:24.890Z"
   },
   {
    "duration": 703,
    "start_time": "2025-02-28T04:41:29.306Z"
   },
   {
    "duration": 463,
    "start_time": "2025-02-28T04:41:32.510Z"
   },
   {
    "duration": 1815,
    "start_time": "2025-02-28T04:41:34.249Z"
   },
   {
    "duration": 1730,
    "start_time": "2025-02-28T04:41:38.131Z"
   },
   {
    "duration": 7,
    "start_time": "2025-02-28T04:41:42.871Z"
   },
   {
    "duration": 10,
    "start_time": "2025-02-28T04:41:46.165Z"
   },
   {
    "duration": 116,
    "start_time": "2025-02-28T04:41:50.171Z"
   },
   {
    "duration": 936,
    "start_time": "2025-02-28T04:55:54.198Z"
   },
   {
    "duration": 523,
    "start_time": "2025-02-28T04:55:55.137Z"
   },
   {
    "duration": 31,
    "start_time": "2025-02-28T04:55:55.671Z"
   },
   {
    "duration": 14,
    "start_time": "2025-02-28T04:55:56.582Z"
   },
   {
    "duration": 15,
    "start_time": "2025-02-28T04:55:57.696Z"
   },
   {
    "duration": 156,
    "start_time": "2025-02-28T04:55:59.004Z"
   },
   {
    "duration": 9,
    "start_time": "2025-02-28T04:56:00.472Z"
   },
   {
    "duration": 7,
    "start_time": "2025-02-28T04:56:01.603Z"
   },
   {
    "duration": 5,
    "start_time": "2025-02-28T04:56:03.271Z"
   },
   {
    "duration": 12,
    "start_time": "2025-02-28T04:56:05.426Z"
   },
   {
    "duration": 57,
    "start_time": "2025-02-28T04:56:06.301Z"
   },
   {
    "duration": 237,
    "start_time": "2025-02-28T04:56:06.516Z"
   },
   {
    "duration": 1628,
    "start_time": "2025-02-28T04:56:07.607Z"
   },
   {
    "duration": 820,
    "start_time": "2025-02-28T04:56:12.613Z"
   },
   {
    "duration": 466,
    "start_time": "2025-02-28T04:56:28.886Z"
   },
   {
    "duration": 1854,
    "start_time": "2025-02-28T04:56:31.032Z"
   },
   {
    "duration": 1748,
    "start_time": "2025-02-28T04:56:36.539Z"
   },
   {
    "duration": 5,
    "start_time": "2025-02-28T04:56:38.289Z"
   },
   {
    "duration": 10,
    "start_time": "2025-02-28T04:56:40.470Z"
   },
   {
    "duration": 13,
    "start_time": "2025-02-28T04:56:52.840Z"
   },
   {
    "duration": 3,
    "start_time": "2025-02-28T04:59:12.163Z"
   },
   {
    "duration": 331,
    "start_time": "2025-02-28T04:59:13.298Z"
   },
   {
    "duration": 3,
    "start_time": "2025-02-28T05:01:35.776Z"
   },
   {
    "duration": 3,
    "start_time": "2025-02-28T05:01:39.990Z"
   },
   {
    "duration": 22,
    "start_time": "2025-02-28T05:12:26.178Z"
   },
   {
    "duration": 5,
    "start_time": "2025-02-28T05:12:52.175Z"
   },
   {
    "duration": 502,
    "start_time": "2025-02-28T05:12:56.496Z"
   },
   {
    "duration": 30,
    "start_time": "2025-02-28T05:12:57.000Z"
   },
   {
    "duration": 13,
    "start_time": "2025-02-28T05:12:57.093Z"
   },
   {
    "duration": 14,
    "start_time": "2025-02-28T05:12:57.370Z"
   },
   {
    "duration": 151,
    "start_time": "2025-02-28T05:12:57.666Z"
   },
   {
    "duration": 6,
    "start_time": "2025-02-28T05:12:57.947Z"
   },
   {
    "duration": 8,
    "start_time": "2025-02-28T05:12:58.341Z"
   },
   {
    "duration": 4,
    "start_time": "2025-02-28T05:12:59.302Z"
   },
   {
    "duration": 12,
    "start_time": "2025-02-28T05:12:59.875Z"
   },
   {
    "duration": 8,
    "start_time": "2025-02-28T05:13:00.346Z"
   },
   {
    "duration": 221,
    "start_time": "2025-02-28T05:13:00.504Z"
   },
   {
    "duration": 1585,
    "start_time": "2025-02-28T05:13:01.030Z"
   },
   {
    "duration": 814,
    "start_time": "2025-02-28T05:13:02.617Z"
   },
   {
    "duration": 3,
    "start_time": "2025-02-28T05:13:03.512Z"
   },
   {
    "duration": 477,
    "start_time": "2025-02-28T05:13:06.184Z"
   },
   {
    "duration": 1814,
    "start_time": "2025-02-28T05:13:07.876Z"
   },
   {
    "duration": 1735,
    "start_time": "2025-02-28T05:13:10.851Z"
   },
   {
    "duration": 7,
    "start_time": "2025-02-28T05:13:12.589Z"
   },
   {
    "duration": 9,
    "start_time": "2025-02-28T05:13:13.055Z"
   },
   {
    "duration": 38,
    "start_time": "2025-02-28T05:13:14.963Z"
   },
   {
    "duration": 1745,
    "start_time": "2025-02-28T05:13:37.755Z"
   },
   {
    "duration": 10343,
    "start_time": "2025-02-28T05:15:24.438Z"
   },
   {
    "duration": 16,
    "start_time": "2025-02-28T05:17:28.814Z"
   },
   {
    "duration": 57,
    "start_time": "2025-02-28T05:17:48.491Z"
   },
   {
    "duration": 805,
    "start_time": "2025-02-28T05:18:51.300Z"
   },
   {
    "duration": 10276,
    "start_time": "2025-02-28T05:19:39.321Z"
   },
   {
    "duration": 888,
    "start_time": "2025-02-28T05:19:49.600Z"
   },
   {
    "duration": 920,
    "start_time": "2025-02-28T05:21:31.708Z"
   },
   {
    "duration": 503,
    "start_time": "2025-02-28T05:21:32.630Z"
   },
   {
    "duration": 29,
    "start_time": "2025-02-28T05:21:33.319Z"
   },
   {
    "duration": 13,
    "start_time": "2025-02-28T05:21:33.744Z"
   },
   {
    "duration": 14,
    "start_time": "2025-02-28T05:21:34.671Z"
   },
   {
    "duration": 150,
    "start_time": "2025-02-28T05:21:36.079Z"
   },
   {
    "duration": 8,
    "start_time": "2025-02-28T05:21:37.113Z"
   },
   {
    "duration": 8,
    "start_time": "2025-02-28T05:21:37.633Z"
   },
   {
    "duration": 5,
    "start_time": "2025-02-28T05:21:38.254Z"
   },
   {
    "duration": 14,
    "start_time": "2025-02-28T05:21:40.679Z"
   },
   {
    "duration": 59,
    "start_time": "2025-02-28T05:21:42.327Z"
   },
   {
    "duration": 251,
    "start_time": "2025-02-28T05:21:43.016Z"
   },
   {
    "duration": 1716,
    "start_time": "2025-02-28T05:21:44.609Z"
   },
   {
    "duration": 711,
    "start_time": "2025-02-28T05:21:46.327Z"
   },
   {
    "duration": 240,
    "start_time": "2025-02-28T05:21:48.506Z"
   },
   {
    "duration": 462,
    "start_time": "2025-02-28T05:21:55.314Z"
   },
   {
    "duration": 1902,
    "start_time": "2025-02-28T05:21:56.584Z"
   },
   {
    "duration": 935,
    "start_time": "2025-02-28T05:28:38.908Z"
   },
   {
    "duration": 533,
    "start_time": "2025-02-28T05:28:39.865Z"
   },
   {
    "duration": 35,
    "start_time": "2025-02-28T05:28:41.057Z"
   },
   {
    "duration": 12,
    "start_time": "2025-02-28T05:28:42.829Z"
   },
   {
    "duration": 13,
    "start_time": "2025-02-28T05:28:44.360Z"
   },
   {
    "duration": 157,
    "start_time": "2025-02-28T05:28:46.413Z"
   },
   {
    "duration": 7,
    "start_time": "2025-02-28T05:28:48.107Z"
   },
   {
    "duration": 10,
    "start_time": "2025-02-28T05:28:49.537Z"
   },
   {
    "duration": 4,
    "start_time": "2025-02-28T05:28:51.810Z"
   },
   {
    "duration": 16,
    "start_time": "2025-02-28T05:28:54.388Z"
   },
   {
    "duration": 56,
    "start_time": "2025-02-28T05:28:59.096Z"
   },
   {
    "duration": 260,
    "start_time": "2025-02-28T05:29:00.171Z"
   },
   {
    "duration": 1655,
    "start_time": "2025-02-28T05:29:03.860Z"
   },
   {
    "duration": 704,
    "start_time": "2025-02-28T05:29:08.274Z"
   },
   {
    "duration": 462,
    "start_time": "2025-02-28T05:29:15.482Z"
   },
   {
    "duration": 1810,
    "start_time": "2025-02-28T05:29:17.441Z"
   },
   {
    "duration": 100402,
    "start_time": "2025-02-28T05:29:22.097Z"
   },
   {
    "duration": 165,
    "start_time": "2025-02-28T05:35:54.576Z"
   },
   {
    "duration": 910,
    "start_time": "2025-02-28T05:36:01.972Z"
   },
   {
    "duration": 540,
    "start_time": "2025-02-28T05:36:02.886Z"
   },
   {
    "duration": 30,
    "start_time": "2025-02-28T05:36:03.428Z"
   },
   {
    "duration": 11,
    "start_time": "2025-02-28T05:36:03.461Z"
   },
   {
    "duration": 13,
    "start_time": "2025-02-28T05:36:03.702Z"
   },
   {
    "duration": 162,
    "start_time": "2025-02-28T05:36:04.386Z"
   },
   {
    "duration": 7,
    "start_time": "2025-02-28T05:36:05.012Z"
   },
   {
    "duration": 8,
    "start_time": "2025-02-28T05:36:05.843Z"
   },
   {
    "duration": 4,
    "start_time": "2025-02-28T05:36:07.117Z"
   },
   {
    "duration": 14,
    "start_time": "2025-02-28T05:36:08.164Z"
   },
   {
    "duration": 9,
    "start_time": "2025-02-28T05:36:11.421Z"
   },
   {
    "duration": 234,
    "start_time": "2025-02-28T05:36:12.156Z"
   },
   {
    "duration": 1755,
    "start_time": "2025-02-28T05:36:14.169Z"
   },
   {
    "duration": 638,
    "start_time": "2025-02-28T05:36:17.916Z"
   },
   {
    "duration": 463,
    "start_time": "2025-02-28T05:36:24.485Z"
   },
   {
    "duration": 176,
    "start_time": "2025-02-28T05:36:26.785Z"
   },
   {
    "duration": 1727,
    "start_time": "2025-02-28T05:36:28.654Z"
   },
   {
    "duration": 916,
    "start_time": "2025-02-28T05:39:37.345Z"
   },
   {
    "duration": 495,
    "start_time": "2025-02-28T05:39:38.263Z"
   },
   {
    "duration": 31,
    "start_time": "2025-02-28T05:39:39.094Z"
   },
   {
    "duration": 12,
    "start_time": "2025-02-28T05:39:40.112Z"
   },
   {
    "duration": 14,
    "start_time": "2025-02-28T05:39:40.529Z"
   },
   {
    "duration": 161,
    "start_time": "2025-02-28T05:39:41.009Z"
   },
   {
    "duration": 8,
    "start_time": "2025-02-28T05:39:42.232Z"
   },
   {
    "duration": 9,
    "start_time": "2025-02-28T05:39:43.087Z"
   },
   {
    "duration": 5,
    "start_time": "2025-02-28T05:39:44.437Z"
   },
   {
    "duration": 13,
    "start_time": "2025-02-28T05:39:46.080Z"
   },
   {
    "duration": 57,
    "start_time": "2025-02-28T05:39:46.949Z"
   },
   {
    "duration": 229,
    "start_time": "2025-02-28T05:39:47.119Z"
   },
   {
    "duration": 1673,
    "start_time": "2025-02-28T05:39:48.550Z"
   },
   {
    "duration": 711,
    "start_time": "2025-02-28T05:39:50.225Z"
   },
   {
    "duration": 483,
    "start_time": "2025-02-28T05:39:53.678Z"
   },
   {
    "duration": 77,
    "start_time": "2025-02-28T05:39:55.412Z"
   },
   {
    "duration": 1733,
    "start_time": "2025-02-28T05:39:57.755Z"
   },
   {
    "duration": 1728,
    "start_time": "2025-02-28T05:39:59.490Z"
   },
   {
    "duration": 5,
    "start_time": "2025-02-28T05:40:03.789Z"
   },
   {
    "duration": 11,
    "start_time": "2025-02-28T05:40:06.328Z"
   },
   {
    "duration": 71,
    "start_time": "2025-02-28T05:40:20.815Z"
   },
   {
    "duration": 10338,
    "start_time": "2025-02-28T05:40:23.572Z"
   },
   {
    "duration": 385,
    "start_time": "2025-02-28T05:40:33.912Z"
   },
   {
    "duration": 24,
    "start_time": "2025-02-28T05:40:52.048Z"
   },
   {
    "duration": 889,
    "start_time": "2025-02-28T05:44:47.844Z"
   },
   {
    "duration": 516,
    "start_time": "2025-02-28T05:44:48.736Z"
   },
   {
    "duration": 29,
    "start_time": "2025-02-28T05:44:49.879Z"
   },
   {
    "duration": 12,
    "start_time": "2025-02-28T05:44:51.025Z"
   },
   {
    "duration": 13,
    "start_time": "2025-02-28T05:44:52.506Z"
   },
   {
    "duration": 157,
    "start_time": "2025-02-28T05:44:53.411Z"
   },
   {
    "duration": 7,
    "start_time": "2025-02-28T05:44:54.977Z"
   },
   {
    "duration": 10,
    "start_time": "2025-02-28T05:44:56.339Z"
   },
   {
    "duration": 6,
    "start_time": "2025-02-28T05:44:58.079Z"
   },
   {
    "duration": 12,
    "start_time": "2025-02-28T05:45:00.944Z"
   },
   {
    "duration": 56,
    "start_time": "2025-02-28T05:45:03.449Z"
   },
   {
    "duration": 248,
    "start_time": "2025-02-28T05:45:04.185Z"
   },
   {
    "duration": 1588,
    "start_time": "2025-02-28T05:45:06.435Z"
   },
   {
    "duration": 700,
    "start_time": "2025-02-28T05:45:10.252Z"
   },
   {
    "duration": 473,
    "start_time": "2025-02-28T05:45:16.066Z"
   },
   {
    "duration": 74,
    "start_time": "2025-02-28T05:45:17.577Z"
   },
   {
    "duration": 1738,
    "start_time": "2025-02-28T05:45:19.452Z"
   },
   {
    "duration": 51,
    "start_time": "2025-02-28T05:45:25.756Z"
   },
   {
    "duration": 6,
    "start_time": "2025-02-28T05:45:35.679Z"
   },
   {
    "duration": 9,
    "start_time": "2025-02-28T05:45:41.231Z"
   },
   {
    "duration": 10309,
    "start_time": "2025-02-28T05:45:47.530Z"
   },
   {
    "duration": 10311,
    "start_time": "2025-02-28T05:46:02.681Z"
   },
   {
    "duration": 357,
    "start_time": "2025-02-28T05:46:16.267Z"
   },
   {
    "duration": 23,
    "start_time": "2025-02-28T05:46:42.899Z"
   },
   {
    "duration": 894,
    "start_time": "2025-02-28T05:47:19.102Z"
   },
   {
    "duration": 57,
    "start_time": "2025-02-28T05:50:41.382Z"
   },
   {
    "duration": 96,
    "start_time": "2025-02-28T05:51:37.399Z"
   },
   {
    "duration": 15,
    "start_time": "2025-02-28T05:52:50.838Z"
   },
   {
    "duration": 16,
    "start_time": "2025-02-28T05:53:01.109Z"
   },
   {
    "duration": 94,
    "start_time": "2025-02-28T05:53:42.907Z"
   },
   {
    "duration": 78,
    "start_time": "2025-02-28T05:54:02.815Z"
   },
   {
    "duration": 57,
    "start_time": "2025-02-28T05:55:48.252Z"
   },
   {
    "duration": 108,
    "start_time": "2025-02-28T05:56:00.792Z"
   },
   {
    "duration": 425,
    "start_time": "2025-02-28T05:56:54.781Z"
   },
   {
    "duration": 179,
    "start_time": "2025-02-28T05:58:25.311Z"
   },
   {
    "duration": 314,
    "start_time": "2025-02-28T05:59:08.373Z"
   },
   {
    "duration": 103,
    "start_time": "2025-02-28T06:04:34.303Z"
   },
   {
    "duration": 5,
    "start_time": "2025-02-28T06:08:42.952Z"
   },
   {
    "duration": 459,
    "start_time": "2025-02-28T06:08:43.860Z"
   },
   {
    "duration": 30,
    "start_time": "2025-02-28T06:08:44.768Z"
   },
   {
    "duration": 12,
    "start_time": "2025-02-28T06:08:46.127Z"
   },
   {
    "duration": 11,
    "start_time": "2025-02-28T06:08:47.634Z"
   },
   {
    "duration": 160,
    "start_time": "2025-02-28T06:08:48.635Z"
   },
   {
    "duration": 7,
    "start_time": "2025-02-28T06:08:49.924Z"
   },
   {
    "duration": 8,
    "start_time": "2025-02-28T06:08:51.369Z"
   },
   {
    "duration": 4,
    "start_time": "2025-02-28T06:08:53.267Z"
   },
   {
    "duration": 11,
    "start_time": "2025-02-28T06:08:55.846Z"
   },
   {
    "duration": 8,
    "start_time": "2025-02-28T06:08:58.757Z"
   },
   {
    "duration": 234,
    "start_time": "2025-02-28T06:08:59.439Z"
   },
   {
    "duration": 1625,
    "start_time": "2025-02-28T06:09:00.786Z"
   },
   {
    "duration": 618,
    "start_time": "2025-02-28T06:09:02.414Z"
   },
   {
    "duration": 105,
    "start_time": "2025-02-28T06:09:05.263Z"
   },
   {
    "duration": 106,
    "start_time": "2025-02-28T06:09:18.641Z"
   },
   {
    "duration": 454,
    "start_time": "2025-02-28T06:09:20.499Z"
   },
   {
    "duration": 452,
    "start_time": "2025-02-28T06:09:56.178Z"
   },
   {
    "duration": 106,
    "start_time": "2025-02-28T06:09:58.902Z"
   },
   {
    "duration": 907,
    "start_time": "2025-02-28T06:10:19.722Z"
   },
   {
    "duration": 504,
    "start_time": "2025-02-28T06:10:20.878Z"
   },
   {
    "duration": 29,
    "start_time": "2025-02-28T06:10:21.869Z"
   },
   {
    "duration": 13,
    "start_time": "2025-02-28T06:10:23.457Z"
   },
   {
    "duration": 13,
    "start_time": "2025-02-28T06:10:24.667Z"
   },
   {
    "duration": 158,
    "start_time": "2025-02-28T06:10:25.550Z"
   },
   {
    "duration": 11,
    "start_time": "2025-02-28T06:10:27.045Z"
   },
   {
    "duration": 10,
    "start_time": "2025-02-28T06:10:28.117Z"
   },
   {
    "duration": 6,
    "start_time": "2025-02-28T06:10:29.873Z"
   },
   {
    "duration": 13,
    "start_time": "2025-02-28T06:10:31.998Z"
   },
   {
    "duration": 57,
    "start_time": "2025-02-28T06:10:38.470Z"
   },
   {
    "duration": 229,
    "start_time": "2025-02-28T06:10:39.412Z"
   },
   {
    "duration": 610,
    "start_time": "2025-02-28T06:12:21.417Z"
   },
   {
    "duration": 461,
    "start_time": "2025-02-28T06:12:24.747Z"
   },
   {
    "duration": 237,
    "start_time": "2025-02-28T06:12:26.707Z"
   },
   {
    "duration": 59,
    "start_time": "2025-02-28T06:13:05.696Z"
   },
   {
    "duration": 127,
    "start_time": "2025-02-28T06:13:08.873Z"
   },
   {
    "duration": 422,
    "start_time": "2025-02-28T06:13:51.564Z"
   },
   {
    "duration": 132,
    "start_time": "2025-02-28T06:13:56.204Z"
   },
   {
    "duration": 88,
    "start_time": "2025-02-28T06:13:57.711Z"
   },
   {
    "duration": 74,
    "start_time": "2025-02-28T06:13:59.683Z"
   },
   {
    "duration": 1714,
    "start_time": "2025-02-28T06:14:01.123Z"
   },
   {
    "duration": 148,
    "start_time": "2025-02-28T06:14:06.260Z"
   },
   {
    "duration": 6,
    "start_time": "2025-02-28T06:14:11.318Z"
   },
   {
    "duration": 10,
    "start_time": "2025-02-28T06:14:20.106Z"
   }
  ],
  "kernelspec": {
   "display_name": "Python 3 (ipykernel)",
   "language": "python",
   "name": "python3"
  },
  "language_info": {
   "codemirror_mode": {
    "name": "ipython",
    "version": 3
   },
   "file_extension": ".py",
   "mimetype": "text/x-python",
   "name": "python",
   "nbconvert_exporter": "python",
   "pygments_lexer": "ipython3",
   "version": "3.9.19"
  },
  "toc": {
   "base_numbering": 1,
   "nav_menu": {},
   "number_sections": true,
   "sideBar": true,
   "skip_h1_title": true,
   "title_cell": "Table of Contents",
   "title_sidebar": "Contents",
   "toc_cell": false,
   "toc_position": {},
   "toc_section_display": true,
   "toc_window_display": false
  }
 },
 "nbformat": 4,
 "nbformat_minor": 2
}
